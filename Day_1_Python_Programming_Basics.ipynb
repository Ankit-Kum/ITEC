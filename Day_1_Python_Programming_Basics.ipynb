{
  "nbformat": 4,
  "nbformat_minor": 0,
  "metadata": {
    "colab": {
      "provenance": []
    },
    "kernelspec": {
      "name": "python3",
      "display_name": "Python 3"
    },
    "language_info": {
      "name": "python"
    }
  },
  "cells": [
    {
      "cell_type": "code",
      "execution_count": null,
      "metadata": {
        "colab": {
          "base_uri": "https://localhost:8080/"
        },
        "id": "Mia3Uf6H6HrE",
        "outputId": "67d5a3a1-7daa-46ac-c2e4-928381d65338"
      },
      "outputs": [
        {
          "output_type": "execute_result",
          "data": {
            "text/plain": [
              "5"
            ]
          },
          "metadata": {},
          "execution_count": 1
        }
      ],
      "source": [
        "2 + 3"
      ]
    },
    {
      "cell_type": "code",
      "source": [
        "2 - 3"
      ],
      "metadata": {
        "colab": {
          "base_uri": "https://localhost:8080/"
        },
        "id": "EqoBgVXU7HF8",
        "outputId": "95f8ca46-362c-4a1e-9b98-cc2360c3389c"
      },
      "execution_count": null,
      "outputs": [
        {
          "output_type": "execute_result",
          "data": {
            "text/plain": [
              "-1"
            ]
          },
          "metadata": {},
          "execution_count": 2
        }
      ]
    },
    {
      "cell_type": "code",
      "source": [
        "3/9"
      ],
      "metadata": {
        "colab": {
          "base_uri": "https://localhost:8080/"
        },
        "id": "ZUAJh2gT7Oh6",
        "outputId": "d43ed2dc-32cc-4988-814a-b3b074e23d41"
      },
      "execution_count": null,
      "outputs": [
        {
          "output_type": "execute_result",
          "data": {
            "text/plain": [
              "0.3333333333333333"
            ]
          },
          "metadata": {},
          "execution_count": 3
        }
      ]
    },
    {
      "cell_type": "code",
      "source": [
        "a = 10\n",
        "b = 20.5\n",
        "c = \"Umang\"\n",
        "d = 'Python'\n",
        "e = 45 + 7j\n",
        "f = True"
      ],
      "metadata": {
        "id": "S1qSbMSd7P_N"
      },
      "execution_count": null,
      "outputs": []
    },
    {
      "cell_type": "code",
      "source": [
        "print(\"Hello\")"
      ],
      "metadata": {
        "colab": {
          "base_uri": "https://localhost:8080/"
        },
        "id": "hvKteJgb8p3i",
        "outputId": "f716ea34-4a57-47af-95a4-34f329970e9a"
      },
      "execution_count": null,
      "outputs": [
        {
          "output_type": "stream",
          "name": "stdout",
          "text": [
            "Hello\n"
          ]
        }
      ]
    },
    {
      "cell_type": "code",
      "source": [
        "print(type(a))\n",
        "print(type(b))\n",
        "print(type(c))\n",
        "print(type(d))\n",
        "print(type(e))\n",
        "print(type(f))"
      ],
      "metadata": {
        "colab": {
          "base_uri": "https://localhost:8080/"
        },
        "id": "AUk-2GXH8tGf",
        "outputId": "db52892b-5e9a-4e0a-9853-88e9acf93153"
      },
      "execution_count": null,
      "outputs": [
        {
          "output_type": "stream",
          "name": "stdout",
          "text": [
            "<class 'int'>\n",
            "<class 'float'>\n",
            "<class 'str'>\n",
            "<class 'str'>\n",
            "<class 'complex'>\n",
            "<class 'bool'>\n"
          ]
        }
      ]
    },
    {
      "cell_type": "code",
      "source": [
        "a1 = float(10)\n",
        "print(type(a1))"
      ],
      "metadata": {
        "colab": {
          "base_uri": "https://localhost:8080/"
        },
        "id": "ITNVcFgJ9Wkr",
        "outputId": "f60d796e-64d7-4f0e-8989-6df16dd1242a"
      },
      "execution_count": null,
      "outputs": [
        {
          "output_type": "stream",
          "name": "stdout",
          "text": [
            "<class 'float'>\n"
          ]
        }
      ]
    },
    {
      "cell_type": "markdown",
      "source": [
        "Datatype in Python\n",
        "1. Primitive Datatype- int, float, complex, bool, string\n",
        "2. Core Datatype - list, tuple, dictionary, array, sets"
      ],
      "metadata": {
        "id": "RBN0XiKK-jUR"
      }
    },
    {
      "cell_type": "code",
      "source": [
        "### List - Group of heterogenous data which is mutable (can be changed)"
      ],
      "metadata": {
        "id": "wFEdu8OR8xoV"
      },
      "execution_count": null,
      "outputs": []
    },
    {
      "cell_type": "code",
      "source": [
        "subjects = [\"Maths\",\"Science\",\"English\"]\n",
        "lst1 = [10,20.5,\"Python\",True,[3,4,5]]"
      ],
      "metadata": {
        "id": "7vl1FcUf9uvd"
      },
      "execution_count": null,
      "outputs": []
    },
    {
      "cell_type": "code",
      "source": [
        "print(subjects)"
      ],
      "metadata": {
        "colab": {
          "base_uri": "https://localhost:8080/"
        },
        "id": "QeSrlYLI-lRW",
        "outputId": "7dbd6467-09b0-40fa-d223-4f7c9e4837ea"
      },
      "execution_count": null,
      "outputs": [
        {
          "output_type": "stream",
          "name": "stdout",
          "text": [
            "['Maths', 'Science', 'English']\n"
          ]
        }
      ]
    },
    {
      "cell_type": "code",
      "source": [
        "print(lst1)"
      ],
      "metadata": {
        "colab": {
          "base_uri": "https://localhost:8080/"
        },
        "id": "sXaah4h7-mML",
        "outputId": "6990608e-ce7e-4007-8444-9427fff50b22"
      },
      "execution_count": null,
      "outputs": [
        {
          "output_type": "stream",
          "name": "stdout",
          "text": [
            "[10, 20.5, 'Python', True, [3, 4, 5]]\n"
          ]
        }
      ]
    },
    {
      "cell_type": "code",
      "source": [
        "subjects = [\"Maths\",\"Science\",\"English\",\"Hindi\",\"SST\",\"Drawing\",\"EVS\"]\n",
        "print(subjects)"
      ],
      "metadata": {
        "colab": {
          "base_uri": "https://localhost:8080/"
        },
        "id": "I5l0eOmD-m3I",
        "outputId": "3b192780-ec1e-4c8c-d541-50c7d5a6c253"
      },
      "execution_count": null,
      "outputs": [
        {
          "output_type": "stream",
          "name": "stdout",
          "text": [
            "['Maths', 'Science', 'English', 'Hindi', 'SST', 'Drawing', 'EVS']\n"
          ]
        }
      ]
    },
    {
      "cell_type": "code",
      "source": [
        "len(subjects)"
      ],
      "metadata": {
        "colab": {
          "base_uri": "https://localhost:8080/"
        },
        "id": "YiXqjHsf_qT2",
        "outputId": "a80f7586-31c8-42c1-bf66-32bff40b19be"
      },
      "execution_count": null,
      "outputs": [
        {
          "output_type": "execute_result",
          "data": {
            "text/plain": [
              "7"
            ]
          },
          "metadata": {},
          "execution_count": 16
        }
      ]
    },
    {
      "cell_type": "code",
      "source": [
        "subjects[6]"
      ],
      "metadata": {
        "colab": {
          "base_uri": "https://localhost:8080/",
          "height": 35
        },
        "id": "gYu8FMz3_bxZ",
        "outputId": "ed0c8d11-f6f0-43b5-ece7-77ec6993307c"
      },
      "execution_count": null,
      "outputs": [
        {
          "output_type": "execute_result",
          "data": {
            "text/plain": [
              "'EVS'"
            ],
            "application/vnd.google.colaboratory.intrinsic+json": {
              "type": "string"
            }
          },
          "metadata": {},
          "execution_count": 17
        }
      ]
    },
    {
      "cell_type": "code",
      "source": [
        "subjects[3]"
      ],
      "metadata": {
        "colab": {
          "base_uri": "https://localhost:8080/",
          "height": 35
        },
        "id": "yCv7onbW_zUg",
        "outputId": "d1eb6904-ce4b-4a78-e7d2-524b1f9cf1d3"
      },
      "execution_count": null,
      "outputs": [
        {
          "output_type": "execute_result",
          "data": {
            "text/plain": [
              "'Hindi'"
            ],
            "application/vnd.google.colaboratory.intrinsic+json": {
              "type": "string"
            }
          },
          "metadata": {},
          "execution_count": 18
        }
      ]
    },
    {
      "cell_type": "code",
      "source": [
        "subjects[:]"
      ],
      "metadata": {
        "colab": {
          "base_uri": "https://localhost:8080/"
        },
        "id": "ug34lVA-_2eJ",
        "outputId": "3d77907c-4481-42db-ad50-ae023d301c21"
      },
      "execution_count": null,
      "outputs": [
        {
          "output_type": "execute_result",
          "data": {
            "text/plain": [
              "['Maths', 'Science', 'English', 'Hindi', 'SST', 'Drawing', 'EVS']"
            ]
          },
          "metadata": {},
          "execution_count": 19
        }
      ]
    },
    {
      "cell_type": "code",
      "source": [
        "subjects[1:5]   ## 1 - 4"
      ],
      "metadata": {
        "colab": {
          "base_uri": "https://localhost:8080/"
        },
        "id": "feudhHoOAIQ4",
        "outputId": "5f502837-4be4-4a35-8b7a-e308de44d8f2"
      },
      "execution_count": null,
      "outputs": [
        {
          "output_type": "execute_result",
          "data": {
            "text/plain": [
              "['Science', 'English', 'Hindi', 'SST']"
            ]
          },
          "metadata": {},
          "execution_count": 20
        }
      ]
    },
    {
      "cell_type": "code",
      "source": [
        "subjects[2:]"
      ],
      "metadata": {
        "colab": {
          "base_uri": "https://localhost:8080/"
        },
        "id": "HdHLW59CALHM",
        "outputId": "4639b333-4140-446a-e73f-2c097d605a01"
      },
      "execution_count": null,
      "outputs": [
        {
          "output_type": "execute_result",
          "data": {
            "text/plain": [
              "['English', 'Hindi', 'SST', 'Drawing', 'EVS']"
            ]
          },
          "metadata": {},
          "execution_count": 21
        }
      ]
    },
    {
      "cell_type": "code",
      "source": [
        "### add item to list\n",
        "subjects.append(\"XYZ\")"
      ],
      "metadata": {
        "id": "zMtx6aXEAVj8"
      },
      "execution_count": null,
      "outputs": []
    },
    {
      "cell_type": "code",
      "source": [
        "subjects"
      ],
      "metadata": {
        "colab": {
          "base_uri": "https://localhost:8080/"
        },
        "id": "UV8thvRaAla6",
        "outputId": "f583acb8-3477-4534-fe9c-9a1d2914cc42"
      },
      "execution_count": null,
      "outputs": [
        {
          "output_type": "execute_result",
          "data": {
            "text/plain": [
              "['Maths', 'Science', 'English', 'Hindi', 'SST', 'Drawing', 'EVS', 'XYZ']"
            ]
          },
          "metadata": {},
          "execution_count": 24
        }
      ]
    },
    {
      "cell_type": "code",
      "source": [
        "subjects.insert(4,\"ABC\")"
      ],
      "metadata": {
        "id": "Sr5Kj3ZJAsSV"
      },
      "execution_count": null,
      "outputs": []
    },
    {
      "cell_type": "code",
      "source": [
        "subjects"
      ],
      "metadata": {
        "colab": {
          "base_uri": "https://localhost:8080/"
        },
        "id": "HsRCYc8rA6tM",
        "outputId": "79b466b3-c5e1-4e5e-a815-3a71765e79a5"
      },
      "execution_count": null,
      "outputs": [
        {
          "output_type": "execute_result",
          "data": {
            "text/plain": [
              "['Maths', 'Science', 'English', 'Hindi', 'ABC', 'SST', 'Drawing', 'EVS', 'XYZ']"
            ]
          },
          "metadata": {},
          "execution_count": 26
        }
      ]
    },
    {
      "cell_type": "code",
      "source": [
        "subjects[4] = \"QWERTY\""
      ],
      "metadata": {
        "id": "5lbFty6yA7SY"
      },
      "execution_count": null,
      "outputs": []
    },
    {
      "cell_type": "code",
      "source": [
        "print(subjects)"
      ],
      "metadata": {
        "colab": {
          "base_uri": "https://localhost:8080/"
        },
        "id": "EZZDdqf5BTNX",
        "outputId": "e835b02b-ec75-48e6-d16e-4a6034ab6fd4"
      },
      "execution_count": null,
      "outputs": [
        {
          "output_type": "stream",
          "name": "stdout",
          "text": [
            "['Maths', 'Science', 'English', 'Hindi', 'QWERTY', 'SST', 'Drawing', 'EVS', 'XYZ']\n"
          ]
        }
      ]
    },
    {
      "cell_type": "code",
      "source": [
        "subjects.remove(\"XYZ\")   ## remove any item"
      ],
      "metadata": {
        "id": "COo1RYimBUW0"
      },
      "execution_count": null,
      "outputs": []
    },
    {
      "cell_type": "code",
      "source": [
        "print(subjects)"
      ],
      "metadata": {
        "colab": {
          "base_uri": "https://localhost:8080/"
        },
        "id": "sfQXecLOB2yf",
        "outputId": "b6101c0b-accd-45fe-e49e-8443b5e9abcd"
      },
      "execution_count": null,
      "outputs": [
        {
          "output_type": "stream",
          "name": "stdout",
          "text": [
            "['Maths', 'Science', 'English', 'Hindi', 'QWERTY', 'SST', 'Drawing', 'EVS']\n"
          ]
        }
      ]
    },
    {
      "cell_type": "code",
      "source": [
        "subjects.pop(2)"
      ],
      "metadata": {
        "colab": {
          "base_uri": "https://localhost:8080/",
          "height": 35
        },
        "id": "JhJK_CT9CHdx",
        "outputId": "6864a324-4df6-4547-c005-ba688b9643db"
      },
      "execution_count": null,
      "outputs": [
        {
          "output_type": "execute_result",
          "data": {
            "text/plain": [
              "'English'"
            ],
            "application/vnd.google.colaboratory.intrinsic+json": {
              "type": "string"
            }
          },
          "metadata": {},
          "execution_count": 32
        }
      ]
    },
    {
      "cell_type": "code",
      "source": [
        "print(subjects)"
      ],
      "metadata": {
        "colab": {
          "base_uri": "https://localhost:8080/"
        },
        "id": "izHgysW3CKj5",
        "outputId": "a7d13c0b-d0dd-4f87-b19d-20a8dab9a973"
      },
      "execution_count": null,
      "outputs": [
        {
          "output_type": "stream",
          "name": "stdout",
          "text": [
            "['Maths', 'Science', 'Hindi', 'QWERTY', 'SST', 'Drawing', 'EVS']\n"
          ]
        }
      ]
    },
    {
      "cell_type": "code",
      "source": [
        "### Tuple - Same like list but it is immutable"
      ],
      "metadata": {
        "id": "6lKUeqQMB4Qu"
      },
      "execution_count": null,
      "outputs": []
    },
    {
      "cell_type": "code",
      "source": [
        "subjects_t = (\"Maths\",\"Science\",\"English\",\"Hindi\",\"SST\",\"Drawing\",\"EVS\")\n",
        "print(subjects_t)"
      ],
      "metadata": {
        "colab": {
          "base_uri": "https://localhost:8080/"
        },
        "id": "atB12NqUCXwI",
        "outputId": "ff36d1ea-b1a0-4087-e873-8f5efb36873b"
      },
      "execution_count": null,
      "outputs": [
        {
          "output_type": "stream",
          "name": "stdout",
          "text": [
            "('Maths', 'Science', 'English', 'Hindi', 'SST', 'Drawing', 'EVS')\n"
          ]
        }
      ]
    },
    {
      "cell_type": "code",
      "source": [
        "type(subjects_t)"
      ],
      "metadata": {
        "colab": {
          "base_uri": "https://localhost:8080/"
        },
        "id": "cIHbutqfCet9",
        "outputId": "35bd00a0-eb2c-4bbf-bfac-fcbe54f34798"
      },
      "execution_count": null,
      "outputs": [
        {
          "output_type": "execute_result",
          "data": {
            "text/plain": [
              "tuple"
            ]
          },
          "metadata": {},
          "execution_count": 37
        }
      ]
    },
    {
      "cell_type": "code",
      "source": [
        "### Dictionary - Stores the data in the form of key-value pairs (no index)"
      ],
      "metadata": {
        "id": "Qmm6RBhmCf8j"
      },
      "execution_count": null,
      "outputs": []
    },
    {
      "cell_type": "code",
      "source": [
        "student = {\"name\":\"rohit\",\"roll\":2,\"marks\":{\"maths\":100,\"science\":95}}\n",
        "print(student)"
      ],
      "metadata": {
        "colab": {
          "base_uri": "https://localhost:8080/"
        },
        "id": "W11iCmJ2Dj3f",
        "outputId": "1b9a023d-8e7d-4ed1-b7ef-7ab575e53b04"
      },
      "execution_count": null,
      "outputs": [
        {
          "output_type": "stream",
          "name": "stdout",
          "text": [
            "{'name': 'rohit', 'roll': 2, 'marks': {'maths': 100, 'science': 95}}\n"
          ]
        }
      ]
    },
    {
      "cell_type": "code",
      "source": [
        "print(student['name'])"
      ],
      "metadata": {
        "colab": {
          "base_uri": "https://localhost:8080/"
        },
        "id": "sR8mPGTnD5eX",
        "outputId": "650d0753-ec15-4b5b-8c2d-613843a0d536"
      },
      "execution_count": null,
      "outputs": [
        {
          "output_type": "stream",
          "name": "stdout",
          "text": [
            "rohit\n"
          ]
        }
      ]
    },
    {
      "cell_type": "code",
      "source": [
        "print(student['marks']['science'])"
      ],
      "metadata": {
        "colab": {
          "base_uri": "https://localhost:8080/"
        },
        "id": "fzKtcJIYD-GE",
        "outputId": "8fa41fe1-30cb-4cd1-c5f1-b8882cedb083"
      },
      "execution_count": null,
      "outputs": [
        {
          "output_type": "stream",
          "name": "stdout",
          "text": [
            "95\n"
          ]
        }
      ]
    },
    {
      "cell_type": "code",
      "source": [
        "student['gender'] = \"male\"\n",
        "print(student)"
      ],
      "metadata": {
        "colab": {
          "base_uri": "https://localhost:8080/"
        },
        "id": "3dm8xljnEILG",
        "outputId": "f9072300-e31b-48b3-b1f5-8380b175bdb3"
      },
      "execution_count": null,
      "outputs": [
        {
          "output_type": "stream",
          "name": "stdout",
          "text": [
            "{'name': 'rohit', 'roll': 2, 'marks': {'maths': 100, 'science': 95}, 'gender': 'male'}\n"
          ]
        }
      ]
    },
    {
      "cell_type": "code",
      "source": [
        "student['gender'] = \"female\"\n",
        "print(student)"
      ],
      "metadata": {
        "colab": {
          "base_uri": "https://localhost:8080/"
        },
        "id": "vwhv-VJcEejc",
        "outputId": "031f4383-d677-425d-c042-6e1dd84883e7"
      },
      "execution_count": null,
      "outputs": [
        {
          "output_type": "stream",
          "name": "stdout",
          "text": [
            "{'name': 'rohit', 'roll': 2, 'marks': {'maths': 100, 'science': 95}, 'gender': 'female'}\n"
          ]
        }
      ]
    },
    {
      "cell_type": "code",
      "source": [
        "student['Gender'] = \"female\"\n",
        "print(student)"
      ],
      "metadata": {
        "colab": {
          "base_uri": "https://localhost:8080/"
        },
        "id": "znhLqTUaEmgy",
        "outputId": "811f6a21-22f1-4398-fba4-64a66eb5f571"
      },
      "execution_count": null,
      "outputs": [
        {
          "output_type": "stream",
          "name": "stdout",
          "text": [
            "{'name': 'rohit', 'roll': 2, 'marks': {'maths': 100, 'science': 95}, 'gender': 'female', 'Gender': 'female'}\n"
          ]
        }
      ]
    },
    {
      "cell_type": "code",
      "source": [
        "del(student['Gender'])"
      ],
      "metadata": {
        "id": "lefcmRDoEpnF"
      },
      "execution_count": null,
      "outputs": []
    },
    {
      "cell_type": "code",
      "source": [
        "student"
      ],
      "metadata": {
        "colab": {
          "base_uri": "https://localhost:8080/"
        },
        "id": "xdosP02qFHqV",
        "outputId": "c90df041-5ecf-4b41-920f-273dfac8ed86"
      },
      "execution_count": null,
      "outputs": [
        {
          "output_type": "execute_result",
          "data": {
            "text/plain": [
              "{'name': 'rohit',\n",
              " 'roll': 2,\n",
              " 'marks': {'maths': 100, 'science': 95},\n",
              " 'gender': 'female'}"
            ]
          },
          "metadata": {},
          "execution_count": 48
        }
      ]
    },
    {
      "cell_type": "code",
      "source": [
        "student['Gender'] = [\"female\",\"male\"]\n",
        "print(student)"
      ],
      "metadata": {
        "colab": {
          "base_uri": "https://localhost:8080/"
        },
        "id": "3Oy6ZBDAFIZZ",
        "outputId": "43794ecc-9ccc-45eb-eae2-036a0f7d341b"
      },
      "execution_count": null,
      "outputs": [
        {
          "output_type": "stream",
          "name": "stdout",
          "text": [
            "{'name': 'rohit', 'roll': 2, 'marks': {'maths': 100, 'science': 95}, 'gender': 'female', 'Gender': ['female', 'male']}\n"
          ]
        }
      ]
    },
    {
      "cell_type": "code",
      "source": [
        "del(student['marks']['science'])"
      ],
      "metadata": {
        "id": "_TNM8CP7FOOp"
      },
      "execution_count": null,
      "outputs": []
    },
    {
      "cell_type": "code",
      "source": [
        "student"
      ],
      "metadata": {
        "colab": {
          "base_uri": "https://localhost:8080/"
        },
        "id": "URsAnWELFgeu",
        "outputId": "4413e483-cc9d-462d-c482-905ef09aad89"
      },
      "execution_count": null,
      "outputs": [
        {
          "output_type": "execute_result",
          "data": {
            "text/plain": [
              "{'name': 'rohit',\n",
              " 'roll': 2,\n",
              " 'marks': {'maths': 100},\n",
              " 'gender': 'female',\n",
              " 'Gender': ['female', 'male']}"
            ]
          },
          "metadata": {},
          "execution_count": 51
        }
      ]
    },
    {
      "cell_type": "code",
      "source": [
        "student['marks'][\"science\"] = 90"
      ],
      "metadata": {
        "id": "2EbCiJChFhU1"
      },
      "execution_count": null,
      "outputs": []
    },
    {
      "cell_type": "code",
      "source": [
        "student"
      ],
      "metadata": {
        "colab": {
          "base_uri": "https://localhost:8080/"
        },
        "id": "DmahfBcSFpxX",
        "outputId": "9b10fcdd-b19a-44d1-9e2a-aeb86ed26f30"
      },
      "execution_count": null,
      "outputs": [
        {
          "output_type": "execute_result",
          "data": {
            "text/plain": [
              "{'name': 'rohit',\n",
              " 'roll': 2,\n",
              " 'marks': {'maths': 100, 'science': 90},\n",
              " 'gender': 'female',\n",
              " 'Gender': ['female', 'male']}"
            ]
          },
          "metadata": {},
          "execution_count": 54
        }
      ]
    },
    {
      "cell_type": "code",
      "source": [
        "## set - unique data"
      ],
      "metadata": {
        "id": "wb6tj9QfFst0"
      },
      "execution_count": null,
      "outputs": []
    },
    {
      "cell_type": "code",
      "source": [
        "ab = {5,3,5,6,4,45,34,5,453,43,5}\n",
        "print(ab)"
      ],
      "metadata": {
        "colab": {
          "base_uri": "https://localhost:8080/"
        },
        "id": "ukxGDrL6F9JW",
        "outputId": "19e617e2-15e8-4431-9425-6b3f40c8fb0b"
      },
      "execution_count": null,
      "outputs": [
        {
          "output_type": "stream",
          "name": "stdout",
          "text": [
            "{34, 3, 4, 5, 6, 453, 43, 45}\n"
          ]
        }
      ]
    },
    {
      "cell_type": "code",
      "source": [
        "str1 = \"We are learning Python by Edulakes Solutions in association with NSS IIT Roorkee\"\n",
        "print(str1)"
      ],
      "metadata": {
        "colab": {
          "base_uri": "https://localhost:8080/"
        },
        "id": "Yp3tdHoEGCoN",
        "outputId": "73dbdf25-faa9-4ac8-ab88-c0b7daa92d64"
      },
      "execution_count": null,
      "outputs": [
        {
          "output_type": "stream",
          "name": "stdout",
          "text": [
            "We are learning Python by Edulakes Solutions in association with NSS IIT Roorkee\n"
          ]
        }
      ]
    },
    {
      "cell_type": "code",
      "source": [
        "len(str1)"
      ],
      "metadata": {
        "colab": {
          "base_uri": "https://localhost:8080/"
        },
        "id": "uJ8EN6WLGE7I",
        "outputId": "8033b022-922a-4aab-bf19-6ef74e667f68"
      },
      "execution_count": null,
      "outputs": [
        {
          "output_type": "execute_result",
          "data": {
            "text/plain": [
              "80"
            ]
          },
          "metadata": {},
          "execution_count": 60
        }
      ]
    },
    {
      "cell_type": "code",
      "source": [
        "str1[4:50]"
      ],
      "metadata": {
        "colab": {
          "base_uri": "https://localhost:8080/",
          "height": 35
        },
        "id": "8baDt0xXKt1H",
        "outputId": "45bdcafc-b78d-4077-bcd8-219c78d2a0a8"
      },
      "execution_count": null,
      "outputs": [
        {
          "output_type": "execute_result",
          "data": {
            "text/plain": [
              "'re learning Python by Edulakes Solutions in as'"
            ],
            "application/vnd.google.colaboratory.intrinsic+json": {
              "type": "string"
            }
          },
          "metadata": {},
          "execution_count": 61
        }
      ]
    },
    {
      "cell_type": "code",
      "source": [
        "print(str1)\n",
        "print(str1.capitalize())\n",
        "print(str1.lower())\n",
        "print(str1.upper())\n",
        "print(str1.title())\n",
        "print(str1.swapcase())"
      ],
      "metadata": {
        "colab": {
          "base_uri": "https://localhost:8080/"
        },
        "id": "Bwhcq1F7Kygk",
        "outputId": "3532ca6e-b0da-41e6-e379-695ec724abba"
      },
      "execution_count": null,
      "outputs": [
        {
          "output_type": "stream",
          "name": "stdout",
          "text": [
            "We are learning Python by Edulakes Solutions in association with NSS IIT Roorkee\n",
            "We are learning python by edulakes solutions in association with nss iit roorkee\n",
            "we are learning python by edulakes solutions in association with nss iit roorkee\n",
            "WE ARE LEARNING PYTHON BY EDULAKES SOLUTIONS IN ASSOCIATION WITH NSS IIT ROORKEE\n",
            "We Are Learning Python By Edulakes Solutions In Association With Nss Iit Roorkee\n",
            "wE ARE LEARNING pYTHON BY eDULAKES sOLUTIONS IN ASSOCIATION WITH nss iit rOORKEE\n"
          ]
        }
      ]
    },
    {
      "cell_type": "code",
      "source": [
        "#str1 = str1.lower()"
      ],
      "metadata": {
        "id": "JvGSELxbMnpE"
      },
      "execution_count": null,
      "outputs": []
    },
    {
      "cell_type": "code",
      "source": [
        "print(str1.count(\"a\"))"
      ],
      "metadata": {
        "colab": {
          "base_uri": "https://localhost:8080/"
        },
        "id": "OUhHnsdxLFmV",
        "outputId": "811ee7b1-b1f0-4664-c703-35497b146bef"
      },
      "execution_count": null,
      "outputs": [
        {
          "output_type": "stream",
          "name": "stdout",
          "text": [
            "5\n"
          ]
        }
      ]
    },
    {
      "cell_type": "code",
      "source": [
        "print(str1.count(\"are\"))"
      ],
      "metadata": {
        "colab": {
          "base_uri": "https://localhost:8080/"
        },
        "id": "cFjHiFRMLb0h",
        "outputId": "e66c5f54-e201-44fe-c4cd-1a28ed72316b"
      },
      "execution_count": null,
      "outputs": [
        {
          "output_type": "stream",
          "name": "stdout",
          "text": [
            "1\n"
          ]
        }
      ]
    },
    {
      "cell_type": "code",
      "source": [
        "print(str1.find(\"Python\"))"
      ],
      "metadata": {
        "colab": {
          "base_uri": "https://localhost:8080/"
        },
        "id": "IFdwqPc3Lf-5",
        "outputId": "f14722ff-22cc-4746-9909-77ca61603a7c"
      },
      "execution_count": null,
      "outputs": [
        {
          "output_type": "stream",
          "name": "stdout",
          "text": [
            "16\n"
          ]
        }
      ]
    },
    {
      "cell_type": "code",
      "source": [
        "print(str1.find(\"Umang\"))"
      ],
      "metadata": {
        "colab": {
          "base_uri": "https://localhost:8080/"
        },
        "id": "wiNLAwGWLyHX",
        "outputId": "488e6f51-b421-4e90-dbb6-cd1b6a0547d0"
      },
      "execution_count": null,
      "outputs": [
        {
          "output_type": "stream",
          "name": "stdout",
          "text": [
            "-1\n"
          ]
        }
      ]
    },
    {
      "cell_type": "code",
      "source": [
        "print(str1.index(\"Python\"))"
      ],
      "metadata": {
        "colab": {
          "base_uri": "https://localhost:8080/"
        },
        "id": "V7Mt6yyPL6T1",
        "outputId": "3dec6d23-e6b3-4b76-aacb-852fff8e9388"
      },
      "execution_count": null,
      "outputs": [
        {
          "output_type": "stream",
          "name": "stdout",
          "text": [
            "16\n"
          ]
        }
      ]
    },
    {
      "cell_type": "code",
      "source": [
        "print(str1.index(\"Umang\"))"
      ],
      "metadata": {
        "colab": {
          "base_uri": "https://localhost:8080/",
          "height": 165
        },
        "id": "QUsA6phSMCjB",
        "outputId": "012b8d43-dc74-4ffe-a128-44873584f00d"
      },
      "execution_count": null,
      "outputs": [
        {
          "output_type": "error",
          "ename": "ValueError",
          "evalue": "ignored",
          "traceback": [
            "\u001b[0;31m---------------------------------------------------------------------------\u001b[0m",
            "\u001b[0;31mValueError\u001b[0m                                Traceback (most recent call last)",
            "\u001b[0;32m<ipython-input-68-be7a5d810733>\u001b[0m in \u001b[0;36m<cell line: 1>\u001b[0;34m()\u001b[0m\n\u001b[0;32m----> 1\u001b[0;31m \u001b[0mprint\u001b[0m\u001b[0;34m(\u001b[0m\u001b[0mstr1\u001b[0m\u001b[0;34m.\u001b[0m\u001b[0mindex\u001b[0m\u001b[0;34m(\u001b[0m\u001b[0;34m\"Umang\"\u001b[0m\u001b[0;34m)\u001b[0m\u001b[0;34m)\u001b[0m\u001b[0;34m\u001b[0m\u001b[0;34m\u001b[0m\u001b[0m\n\u001b[0m",
            "\u001b[0;31mValueError\u001b[0m: substring not found"
          ]
        }
      ]
    },
    {
      "cell_type": "code",
      "source": [
        "### Input Function and Format Function"
      ],
      "metadata": {
        "id": "vDQzer9RMEzJ"
      },
      "execution_count": null,
      "outputs": []
    },
    {
      "cell_type": "code",
      "source": [
        "first_name = input(\"Enter First Name:\")\n",
        "last_name = input(\"Enter Last Name:\")\n",
        "age = input(\"Enter Age:\")\n",
        "print(first_name + \" \" + last_name + \" \" + age)"
      ],
      "metadata": {
        "colab": {
          "base_uri": "https://localhost:8080/"
        },
        "id": "LykUMAk2MRPA",
        "outputId": "e5b37b11-c69a-485b-c81f-2be5c017ad74"
      },
      "execution_count": null,
      "outputs": [
        {
          "output_type": "stream",
          "name": "stdout",
          "text": [
            "Enter First Name:Umang\n",
            "Enter Last Name:Kejriwal\n",
            "Enter Age:32\n",
            "Umang Kejriwal 32\n"
          ]
        }
      ]
    },
    {
      "cell_type": "code",
      "source": [
        "a1 = int(input(\"Enter First Number:\"))\n",
        "a2 = int(input(\"Enter sencond Number:\"))\n",
        "sum = a1 + a2\n",
        "print(\"the sum is \"+ str(sum))"
      ],
      "metadata": {
        "colab": {
          "base_uri": "https://localhost:8080/"
        },
        "id": "SKS7WS-wM4ZP",
        "outputId": "e0069555-5370-4d95-f73c-8f3ba8aa28f1"
      },
      "execution_count": null,
      "outputs": [
        {
          "output_type": "stream",
          "name": "stdout",
          "text": [
            "Enter First Number:30\n",
            "Enter sencond Number:20\n",
            "the sum is 50\n"
          ]
        }
      ]
    },
    {
      "cell_type": "code",
      "source": [
        "a1 = int(input(\"Enter First Number:\"))\n",
        "a2 = int(input(\"Enter sencond Number:\"))\n",
        "sum = a1 + a2\n",
        "print(\"the sum is {}\".format(sum))"
      ],
      "metadata": {
        "colab": {
          "base_uri": "https://localhost:8080/"
        },
        "id": "_dlP6pdDNQSC",
        "outputId": "3ec031cf-5e34-48b3-89a9-190c4daf090c"
      },
      "execution_count": null,
      "outputs": [
        {
          "output_type": "stream",
          "name": "stdout",
          "text": [
            "Enter First Number:2\n",
            "Enter sencond Number:3\n",
            "the sum is 5\n"
          ]
        }
      ]
    },
    {
      "cell_type": "code",
      "source": [
        "first_name = input(\"Enter First Name:\")\n",
        "last_name = input(\"Enter Last Name:\")\n",
        "age = input(\"Enter Age:\")\n",
        "print(\"The name is {} {} and age is {}\".format(first_name,last_name,age))"
      ],
      "metadata": {
        "colab": {
          "base_uri": "https://localhost:8080/"
        },
        "id": "Z_uB4SPMOOAk",
        "outputId": "068a07b1-246c-45ee-a0d6-d7f079a3c267"
      },
      "execution_count": null,
      "outputs": [
        {
          "output_type": "stream",
          "name": "stdout",
          "text": [
            "Enter First Name:umang\n",
            "Enter Last Name:kejriwal\n",
            "Enter Age:32\n",
            "The name is umang kejriwal and age is 32\n"
          ]
        }
      ]
    },
    {
      "cell_type": "code",
      "source": [
        "first_name = input(\"Enter First Name:\")\n",
        "last_name = input(\"Enter Last Name:\")\n",
        "age = input(\"Enter Age:\")\n",
        "print(\"The name is {a} {b} and age is {c}\".format(c=age,a=first_name,b=last_name))"
      ],
      "metadata": {
        "colab": {
          "base_uri": "https://localhost:8080/"
        },
        "id": "c6UxhNa8OnYN",
        "outputId": "37560960-f676-4cad-a3d8-f4d118e1df01"
      },
      "execution_count": null,
      "outputs": [
        {
          "output_type": "stream",
          "name": "stdout",
          "text": [
            "Enter First Name:umang\n",
            "Enter Last Name:kejriwal\n",
            "Enter Age:32\n",
            "The name is umang kejriwal and age is 32\n"
          ]
        }
      ]
    },
    {
      "cell_type": "code",
      "source": [
        "10/2"
      ],
      "metadata": {
        "colab": {
          "base_uri": "https://localhost:8080/"
        },
        "id": "EbSMP8o0QFRx",
        "outputId": "331952d3-3293-4990-d3eb-188898db7a22"
      },
      "execution_count": null,
      "outputs": [
        {
          "output_type": "execute_result",
          "data": {
            "text/plain": [
              "5.0"
            ]
          },
          "metadata": {},
          "execution_count": 78
        }
      ]
    },
    {
      "cell_type": "code",
      "source": [
        "10%3"
      ],
      "metadata": {
        "colab": {
          "base_uri": "https://localhost:8080/"
        },
        "id": "_LDcF_SgQIvm",
        "outputId": "69ca3696-1015-4b07-a70a-c7e9f99a68c8"
      },
      "execution_count": null,
      "outputs": [
        {
          "output_type": "execute_result",
          "data": {
            "text/plain": [
              "1"
            ]
          },
          "metadata": {},
          "execution_count": 79
        }
      ]
    },
    {
      "cell_type": "code",
      "source": [
        "### Conditional Statement in Python"
      ],
      "metadata": {
        "id": "pC2ObaXKO5zc"
      },
      "execution_count": null,
      "outputs": []
    },
    {
      "cell_type": "code",
      "source": [
        "a1 = int(input(\"Enter number:\"))\n",
        "if a1 % 2 == 0:\n",
        "  print(\"Even Number\")\n",
        "else:\n",
        "  print(\"Odd Number\")"
      ],
      "metadata": {
        "colab": {
          "base_uri": "https://localhost:8080/"
        },
        "id": "2l9N2mdXPMXa",
        "outputId": "a9fe47ba-bb09-4c59-a506-a2114dcea753"
      },
      "execution_count": null,
      "outputs": [
        {
          "output_type": "stream",
          "name": "stdout",
          "text": [
            "Enter number:3\n",
            "Odd Number\n"
          ]
        }
      ]
    },
    {
      "cell_type": "code",
      "source": [
        "a1 = int(input(\"Enter number:\"))\n",
        "if a1 > 0:\n",
        "  print(\"Positive Number\")\n",
        "elif a1 < 0:\n",
        "  print(\"Negative Number\")\n",
        "else:\n",
        "  print(\"Its a zero\")"
      ],
      "metadata": {
        "colab": {
          "base_uri": "https://localhost:8080/"
        },
        "id": "0iXQwmGqQOfq",
        "outputId": "a140111f-0785-474e-fe4d-228c0a760b77"
      },
      "execution_count": null,
      "outputs": [
        {
          "output_type": "stream",
          "name": "stdout",
          "text": [
            "Enter number:-2\n",
            "Negative Number\n"
          ]
        }
      ]
    },
    {
      "cell_type": "code",
      "source": [
        "### Short Hand If else - single line if else"
      ],
      "metadata": {
        "id": "DTA_i-NCQwx3"
      },
      "execution_count": null,
      "outputs": []
    },
    {
      "cell_type": "code",
      "source": [
        "a1 = int(input(\"Enter number:\"))\n",
        "print(\"Even Number\") if a1%2 == 0 else print(\"Odd Number\")"
      ],
      "metadata": {
        "id": "h0c6mHRxRgWz",
        "colab": {
          "base_uri": "https://localhost:8080/"
        },
        "outputId": "24fb11fb-83ee-4de7-d6e0-770d9de2403e"
      },
      "execution_count": null,
      "outputs": [
        {
          "output_type": "stream",
          "name": "stdout",
          "text": [
            "Enter number:3\n",
            "Odd Number\n"
          ]
        }
      ]
    },
    {
      "cell_type": "code",
      "source": [
        "a1 = int(input(\"Enter number:\"))\n",
        "print(\"Positive Number\") if a1>0 else print(\"Negative Number\") if a1<0 else print(\"Zero\")"
      ],
      "metadata": {
        "id": "PMCknMtVRmTR",
        "colab": {
          "base_uri": "https://localhost:8080/"
        },
        "outputId": "24656e10-92ba-4808-8842-66ae5864aa07"
      },
      "execution_count": null,
      "outputs": [
        {
          "output_type": "stream",
          "name": "stdout",
          "text": [
            "Enter number:-2\n",
            "Negative Number\n"
          ]
        }
      ]
    },
    {
      "cell_type": "code",
      "source": [],
      "metadata": {
        "id": "9uTkGjo2SYU3"
      },
      "execution_count": null,
      "outputs": []
    }
  ]
}