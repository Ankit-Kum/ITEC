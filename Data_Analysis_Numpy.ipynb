{
  "nbformat": 4,
  "nbformat_minor": 0,
  "metadata": {
    "colab": {
      "provenance": []
    },
    "kernelspec": {
      "name": "python3",
      "display_name": "Python 3"
    },
    "language_info": {
      "name": "python"
    }
  },
  "cells": [
    {
      "cell_type": "markdown",
      "source": [
        "Numpy\n",
        "* It stands for Numerical Python which can be used to do mathematical and scientific operations on multidimentional array (collection of data of same data type)\n",
        "* pip install numpy"
      ],
      "metadata": {
        "id": "LjuTwOL3AZFv"
      }
    },
    {
      "cell_type": "code",
      "source": [
        "!pip install numpy   ## to run - shift + enter"
      ],
      "metadata": {
        "colab": {
          "base_uri": "https://localhost:8080/"
        },
        "id": "S3DE-prbBJic",
        "outputId": "0d7abf26-c7f7-415d-b793-f8d2352692ef"
      },
      "execution_count": 1,
      "outputs": [
        {
          "output_type": "stream",
          "name": "stdout",
          "text": [
            "Looking in indexes: https://pypi.org/simple, https://us-python.pkg.dev/colab-wheels/public/simple/\n",
            "Requirement already satisfied: numpy in /usr/local/lib/python3.10/dist-packages (1.22.4)\n"
          ]
        }
      ]
    },
    {
      "cell_type": "code",
      "source": [
        "import numpy as np"
      ],
      "metadata": {
        "id": "A-c7WLj9BTvi"
      },
      "execution_count": 2,
      "outputs": []
    },
    {
      "cell_type": "code",
      "source": [
        "### Create an array"
      ],
      "metadata": {
        "id": "WFjlaufTB7zQ"
      },
      "execution_count": 3,
      "outputs": []
    },
    {
      "cell_type": "code",
      "source": [
        "a1 = np.array([1,2,3,4,5])   ## 1d array\n",
        "a2 = np.array([[1,2,3,4,5]])  ## 2d array\n",
        "a3 = np.array([[1,2,3,4,5],[1,2,3,4,5],[1,2,3,4,5]])   ## 2d array\n",
        "a4 = np.array([[[1,2,3,4,5],[1,2,3,4,5],[1,2,3,4,5]]]) ## 3d array\n",
        "a5 = np.array([[[1,2,3,4,5],[1,2,3,4,5],[1,2,3,4,5]],    ## 3d array\n",
        "                [[1,2,3,4,5],[1,2,3,4,5],[1,2,3,4,5]]])"
      ],
      "metadata": {
        "id": "mvz9__SHCN2v"
      },
      "execution_count": 5,
      "outputs": []
    },
    {
      "cell_type": "code",
      "source": [
        "print(len(a1))\n",
        "print(len(a2))\n",
        "print(len(a3))\n",
        "print(len(a4))\n",
        "print(len(a5))"
      ],
      "metadata": {
        "colab": {
          "base_uri": "https://localhost:8080/"
        },
        "id": "jOxhCdjFCkPu",
        "outputId": "5491aceb-912c-45f2-b11b-7926079f94cf"
      },
      "execution_count": 8,
      "outputs": [
        {
          "output_type": "stream",
          "name": "stdout",
          "text": [
            "5\n",
            "1\n",
            "3\n",
            "1\n",
            "2\n"
          ]
        }
      ]
    },
    {
      "cell_type": "code",
      "source": [
        "a2  ## 2d array - single element will be 1d array"
      ],
      "metadata": {
        "colab": {
          "base_uri": "https://localhost:8080/"
        },
        "id": "eU14fE2bDGpi",
        "outputId": "19a5c2dd-286d-4bb8-a29f-fda801d38e75"
      },
      "execution_count": 10,
      "outputs": [
        {
          "output_type": "execute_result",
          "data": {
            "text/plain": [
              "array([[1, 2, 3, 4, 5]])"
            ]
          },
          "metadata": {},
          "execution_count": 10
        }
      ]
    },
    {
      "cell_type": "code",
      "source": [
        "a3"
      ],
      "metadata": {
        "colab": {
          "base_uri": "https://localhost:8080/"
        },
        "id": "RSP68X-6DKQb",
        "outputId": "410ab94d-e3ad-4ede-8c30-e340c6e6732f"
      },
      "execution_count": 11,
      "outputs": [
        {
          "output_type": "execute_result",
          "data": {
            "text/plain": [
              "array([[1, 2, 3, 4, 5],\n",
              "       [1, 2, 3, 4, 5],\n",
              "       [1, 2, 3, 4, 5]])"
            ]
          },
          "metadata": {},
          "execution_count": 11
        }
      ]
    },
    {
      "cell_type": "code",
      "source": [
        "a4   ## 3d array - single element will be 2d array"
      ],
      "metadata": {
        "colab": {
          "base_uri": "https://localhost:8080/"
        },
        "id": "xZDZafLIDtOy",
        "outputId": "6c6f16ce-b330-43db-cdb5-3ced4c40057c"
      },
      "execution_count": 12,
      "outputs": [
        {
          "output_type": "execute_result",
          "data": {
            "text/plain": [
              "array([[[1, 2, 3, 4, 5],\n",
              "        [1, 2, 3, 4, 5],\n",
              "        [1, 2, 3, 4, 5]]])"
            ]
          },
          "metadata": {},
          "execution_count": 12
        }
      ]
    },
    {
      "cell_type": "code",
      "source": [
        "a5"
      ],
      "metadata": {
        "colab": {
          "base_uri": "https://localhost:8080/"
        },
        "id": "zeH8CbFNDzIq",
        "outputId": "e4d9620d-7f7e-4d92-f447-57e5f2e4ecad"
      },
      "execution_count": 13,
      "outputs": [
        {
          "output_type": "execute_result",
          "data": {
            "text/plain": [
              "array([[[1, 2, 3, 4, 5],\n",
              "        [1, 2, 3, 4, 5],\n",
              "        [1, 2, 3, 4, 5]],\n",
              "\n",
              "       [[1, 2, 3, 4, 5],\n",
              "        [1, 2, 3, 4, 5],\n",
              "        [1, 2, 3, 4, 5]]])"
            ]
          },
          "metadata": {},
          "execution_count": 13
        }
      ]
    },
    {
      "cell_type": "code",
      "source": [
        "print(a1.ndim)\n",
        "print(a2.ndim)\n",
        "print(a3.ndim)\n",
        "print(a4.ndim)\n",
        "print(a5.ndim)"
      ],
      "metadata": {
        "colab": {
          "base_uri": "https://localhost:8080/"
        },
        "id": "WYtWx_xmD9rB",
        "outputId": "aff89f90-bc1d-4150-e61b-70e8eaa7f52d"
      },
      "execution_count": 14,
      "outputs": [
        {
          "output_type": "stream",
          "name": "stdout",
          "text": [
            "1\n",
            "2\n",
            "2\n",
            "3\n",
            "3\n"
          ]
        }
      ]
    },
    {
      "cell_type": "code",
      "source": [
        "print(a1.dtype)\n",
        "print(a2.dtype)\n",
        "print(a3.dtype)\n",
        "print(a4.dtype)\n",
        "print(a5.dtype)"
      ],
      "metadata": {
        "colab": {
          "base_uri": "https://localhost:8080/"
        },
        "id": "hAIwmzHYFDIs",
        "outputId": "f53cc644-fc54-4f24-8196-baa61c5e84c2"
      },
      "execution_count": 15,
      "outputs": [
        {
          "output_type": "stream",
          "name": "stdout",
          "text": [
            "int64\n",
            "int64\n",
            "int64\n",
            "int64\n",
            "int64\n"
          ]
        }
      ]
    },
    {
      "cell_type": "code",
      "source": [
        "a6 = np.array([1,2,3,4,5,4.5]) \n",
        "a6"
      ],
      "metadata": {
        "colab": {
          "base_uri": "https://localhost:8080/"
        },
        "id": "C7fWUJMZFOfI",
        "outputId": "08f0e3aa-15a9-4c62-8444-0939dd3e67b8"
      },
      "execution_count": 16,
      "outputs": [
        {
          "output_type": "execute_result",
          "data": {
            "text/plain": [
              "array([1. , 2. , 3. , 4. , 5. , 4.5])"
            ]
          },
          "metadata": {},
          "execution_count": 16
        }
      ]
    },
    {
      "cell_type": "code",
      "source": [
        "a6.dtype"
      ],
      "metadata": {
        "colab": {
          "base_uri": "https://localhost:8080/"
        },
        "id": "Gg6YHu1eFdnj",
        "outputId": "b36b316d-8f44-4ae5-f3b0-d561a1e1f65a"
      },
      "execution_count": 17,
      "outputs": [
        {
          "output_type": "execute_result",
          "data": {
            "text/plain": [
              "dtype('float64')"
            ]
          },
          "metadata": {},
          "execution_count": 17
        }
      ]
    },
    {
      "cell_type": "code",
      "source": [
        "a7 = np.array([1,2,3,4,5,\"Umang\",\"NSS IIT Roorkee\"]) \n",
        "a7"
      ],
      "metadata": {
        "colab": {
          "base_uri": "https://localhost:8080/"
        },
        "id": "_MfL2zaWFlUv",
        "outputId": "5808b62c-2dd4-460c-ec15-757031eb9778"
      },
      "execution_count": 20,
      "outputs": [
        {
          "output_type": "execute_result",
          "data": {
            "text/plain": [
              "array(['1', '2', '3', '4', '5', 'Umang', 'NSS IIT Roorkee'], dtype='<U21')"
            ]
          },
          "metadata": {},
          "execution_count": 20
        }
      ]
    },
    {
      "cell_type": "code",
      "source": [
        "a7.dtype"
      ],
      "metadata": {
        "colab": {
          "base_uri": "https://localhost:8080/"
        },
        "id": "xYnQnO9AFtQ6",
        "outputId": "365b4770-1f98-4a55-fb0b-ab9ade20b838"
      },
      "execution_count": 24,
      "outputs": [
        {
          "output_type": "execute_result",
          "data": {
            "text/plain": [
              "dtype('<U21')"
            ]
          },
          "metadata": {},
          "execution_count": 24
        }
      ]
    },
    {
      "cell_type": "code",
      "source": [
        "a7.ndim"
      ],
      "metadata": {
        "colab": {
          "base_uri": "https://localhost:8080/"
        },
        "id": "90zfgdN2FxM4",
        "outputId": "c2e85bdb-f9c3-4dc4-a852-54942d3ac49d"
      },
      "execution_count": 25,
      "outputs": [
        {
          "output_type": "execute_result",
          "data": {
            "text/plain": [
              "1"
            ]
          },
          "metadata": {},
          "execution_count": 25
        }
      ]
    },
    {
      "cell_type": "code",
      "source": [
        "### Array Operations"
      ],
      "metadata": {
        "id": "kBmcCxBGG-yQ"
      },
      "execution_count": 26,
      "outputs": []
    },
    {
      "cell_type": "code",
      "source": [
        "a1 = np.array([1,2,3,4,5])\n",
        "a2 = np.array([11,12,13,14,15])\n",
        "op1 = np.add(a1,a2)\n",
        "op2 = np.subtract(a1,a2)\n",
        "op3 = np.multiply(a1,a2)\n",
        "op4 = np.divide(a1,a2)\n",
        "op5 = np.dot(a1,a2)"
      ],
      "metadata": {
        "id": "npUXRwMzHUl3"
      },
      "execution_count": 36,
      "outputs": []
    },
    {
      "cell_type": "code",
      "source": [
        "op1"
      ],
      "metadata": {
        "colab": {
          "base_uri": "https://localhost:8080/"
        },
        "id": "tKF_-sgDH0Vp",
        "outputId": "74d89e23-ad5d-4109-9335-e6c491e6b4a3"
      },
      "execution_count": 28,
      "outputs": [
        {
          "output_type": "execute_result",
          "data": {
            "text/plain": [
              "array([12, 14, 16, 18, 20])"
            ]
          },
          "metadata": {},
          "execution_count": 28
        }
      ]
    },
    {
      "cell_type": "code",
      "source": [
        "op2"
      ],
      "metadata": {
        "colab": {
          "base_uri": "https://localhost:8080/"
        },
        "id": "lVSHwr6NInze",
        "outputId": "dc277189-cfca-4697-d582-9e3f5470a00a"
      },
      "execution_count": 29,
      "outputs": [
        {
          "output_type": "execute_result",
          "data": {
            "text/plain": [
              "array([-10, -10, -10, -10, -10])"
            ]
          },
          "metadata": {},
          "execution_count": 29
        }
      ]
    },
    {
      "cell_type": "code",
      "source": [
        "op3"
      ],
      "metadata": {
        "colab": {
          "base_uri": "https://localhost:8080/"
        },
        "id": "R5CqGrarIpdF",
        "outputId": "c151ebc1-ddb3-4e87-c339-9bc3acd61542"
      },
      "execution_count": 31,
      "outputs": [
        {
          "output_type": "execute_result",
          "data": {
            "text/plain": [
              "array([11, 24, 39, 56, 75])"
            ]
          },
          "metadata": {},
          "execution_count": 31
        }
      ]
    },
    {
      "cell_type": "code",
      "source": [
        "op4"
      ],
      "metadata": {
        "colab": {
          "base_uri": "https://localhost:8080/"
        },
        "id": "Xtl4FhwOIrBY",
        "outputId": "21b6dcfd-840f-4d70-a07f-aa5aa59da504"
      },
      "execution_count": 33,
      "outputs": [
        {
          "output_type": "execute_result",
          "data": {
            "text/plain": [
              "array([0.09090909, 0.16666667, 0.23076923, 0.28571429, 0.33333333])"
            ]
          },
          "metadata": {},
          "execution_count": 33
        }
      ]
    },
    {
      "cell_type": "code",
      "source": [
        "op5"
      ],
      "metadata": {
        "colab": {
          "base_uri": "https://localhost:8080/"
        },
        "id": "Qm-hU_duIveF",
        "outputId": "319d628f-cb0a-4721-8c1e-3583404b7e16"
      },
      "execution_count": 34,
      "outputs": [
        {
          "output_type": "execute_result",
          "data": {
            "text/plain": [
              "205"
            ]
          },
          "metadata": {},
          "execution_count": 34
        }
      ]
    },
    {
      "cell_type": "code",
      "source": [
        "a1 = np.array([[1,2,3,4,5],[1,2,3,4,5]])\n",
        "a2 = np.array([[11,12,13,14,15],[11,12,13,14,15]])\n",
        "op1 = np.add(a1,a2)\n",
        "op2 = np.subtract(a1,a2)\n",
        "op3 = np.multiply(a1,a2)\n",
        "op4 = np.divide(a1,a2)\n",
        "op5 = np.dot(a1,a2.T)"
      ],
      "metadata": {
        "id": "bVkEjXgxIxqT"
      },
      "execution_count": 40,
      "outputs": []
    },
    {
      "cell_type": "code",
      "source": [
        "op5"
      ],
      "metadata": {
        "colab": {
          "base_uri": "https://localhost:8080/"
        },
        "id": "pd4QPecvI8FW",
        "outputId": "22a2604b-53d4-47a5-9ead-e24d3d7a1389"
      },
      "execution_count": 41,
      "outputs": [
        {
          "output_type": "execute_result",
          "data": {
            "text/plain": [
              "array([[205, 205],\n",
              "       [205, 205]])"
            ]
          },
          "metadata": {},
          "execution_count": 41
        }
      ]
    },
    {
      "cell_type": "code",
      "source": [
        "op3"
      ],
      "metadata": {
        "colab": {
          "base_uri": "https://localhost:8080/"
        },
        "id": "tZWGgJrsJiEF",
        "outputId": "5f9777a5-1d3d-4f70-eb9c-6d103933979a"
      },
      "execution_count": 44,
      "outputs": [
        {
          "output_type": "execute_result",
          "data": {
            "text/plain": [
              "array([[11, 24, 39, 56, 75],\n",
              "       [11, 24, 39, 56, 75]])"
            ]
          },
          "metadata": {},
          "execution_count": 44
        }
      ]
    },
    {
      "cell_type": "code",
      "source": [
        "a1 = np.array([1,2,3,4,5])   ## 1d array\n",
        "a2 = np.array([[1,2,3,4,5]])  ## 2d array\n",
        "a3 = np.array([[1,2,3,4,5],[1,2,3,4,5],[1,2,3,4,5]])   ## 2d array\n",
        "a4 = np.array([[[1,2,3,4,5],[1,2,3,4,5],[1,2,3,4,5]]]) ## 3d array\n",
        "a5 = np.array([[[1,2,3,4,5],[1,2,3,4,5],[1,2,3,4,5]],    ## 3d array\n",
        "                [[1,2,3,4,5],[1,2,3,4,5],[1,2,3,4,5]]])"
      ],
      "metadata": {
        "id": "RgQiJfCgJ1nv"
      },
      "execution_count": 45,
      "outputs": []
    },
    {
      "cell_type": "code",
      "source": [
        "print(a1.shape)\n",
        "print(a2.shape)\n",
        "print(a3.shape)\n",
        "print(a4.shape)\n",
        "print(a5.shape)"
      ],
      "metadata": {
        "colab": {
          "base_uri": "https://localhost:8080/"
        },
        "id": "ibOrYaW9Ka3V",
        "outputId": "12a5ec9b-757a-40eb-ded9-03bdd569abdd"
      },
      "execution_count": 46,
      "outputs": [
        {
          "output_type": "stream",
          "name": "stdout",
          "text": [
            "(5,)\n",
            "(1, 5)\n",
            "(3, 5)\n",
            "(1, 3, 5)\n",
            "(2, 3, 5)\n"
          ]
        }
      ]
    },
    {
      "cell_type": "code",
      "source": [
        "### Random Numbers"
      ],
      "metadata": {
        "id": "2ElMyRRYKiMw"
      },
      "execution_count": 49,
      "outputs": []
    },
    {
      "cell_type": "code",
      "source": [
        "r1 = np.random.randint(100)  ## 0 to 99\n",
        "r1"
      ],
      "metadata": {
        "colab": {
          "base_uri": "https://localhost:8080/"
        },
        "id": "I0xWakjmPGr9",
        "outputId": "b82ed6ef-6b55-4e80-d75e-9ab3f3ae17e1"
      },
      "execution_count": 55,
      "outputs": [
        {
          "output_type": "execute_result",
          "data": {
            "text/plain": [
              "73"
            ]
          },
          "metadata": {},
          "execution_count": 55
        }
      ]
    },
    {
      "cell_type": "code",
      "source": [
        "np.random.seed(10)   ## 0 to 2**32 -1\n",
        "r1 = np.random.randint(100)  ## 0 to 99\n",
        "r1"
      ],
      "metadata": {
        "colab": {
          "base_uri": "https://localhost:8080/"
        },
        "id": "WKQfmqNTPwBO",
        "outputId": "79e65888-38fe-44a0-dc4c-ec8403dd5027"
      },
      "execution_count": 62,
      "outputs": [
        {
          "output_type": "execute_result",
          "data": {
            "text/plain": [
              "9"
            ]
          },
          "metadata": {},
          "execution_count": 62
        }
      ]
    },
    {
      "cell_type": "code",
      "source": [
        "r1 = np.random.randint(100,500)  ## 100 to 499\n",
        "r1"
      ],
      "metadata": {
        "colab": {
          "base_uri": "https://localhost:8080/"
        },
        "id": "ZhBVAfdSQLWc",
        "outputId": "8004ba74-61a4-42b1-929e-d064e8ccbcee"
      },
      "execution_count": 64,
      "outputs": [
        {
          "output_type": "execute_result",
          "data": {
            "text/plain": [
              "115"
            ]
          },
          "metadata": {},
          "execution_count": 64
        }
      ]
    },
    {
      "cell_type": "code",
      "source": [
        "r1 = np.random.randint(100,500,10)  ## 10 numbers between 100 to 499\n",
        "r1"
      ],
      "metadata": {
        "colab": {
          "base_uri": "https://localhost:8080/"
        },
        "id": "zOkbIle9Q4ch",
        "outputId": "929a79a4-ca48-4ce3-a5eb-c34674afbf2e"
      },
      "execution_count": 65,
      "outputs": [
        {
          "output_type": "execute_result",
          "data": {
            "text/plain": [
              "array([420, 469, 223, 256, 321, 469, 108, 173, 356, 140])"
            ]
          },
          "metadata": {},
          "execution_count": 65
        }
      ]
    },
    {
      "cell_type": "code",
      "source": [
        "r1 = np.random.randint(100,500,(5,3))  ## 5x3 array between 100 to 499\n",
        "r1"
      ],
      "metadata": {
        "colab": {
          "base_uri": "https://localhost:8080/"
        },
        "id": "hNVRP7zTQ-2T",
        "outputId": "8f275108-57ef-4b65-d93c-41ce1018a6d5"
      },
      "execution_count": 66,
      "outputs": [
        {
          "output_type": "execute_result",
          "data": {
            "text/plain": [
              "array([[471, 116, 456],\n",
              "       [339, 495, 154],\n",
              "       [444, 463, 222],\n",
              "       [162, 133, 300],\n",
              "       [456, 277, 279]])"
            ]
          },
          "metadata": {},
          "execution_count": 66
        }
      ]
    },
    {
      "cell_type": "code",
      "source": [
        "np.random.seed(10) \n",
        "r1 = np.random.randint(100,500,(5,3,5))  ## 5x3x5 array between 100 to 499\n",
        "r1"
      ],
      "metadata": {
        "colab": {
          "base_uri": "https://localhost:8080/"
        },
        "id": "OHcFX9tdRGmm",
        "outputId": "b87d2691-3274-4beb-f8ad-c4642537f374"
      },
      "execution_count": 69,
      "outputs": [
        {
          "output_type": "execute_result",
          "data": {
            "text/plain": [
              "array([[[365, 225, 115, 420, 469],\n",
              "        [223, 256, 321, 469, 108],\n",
              "        [173, 356, 140, 471, 116]],\n",
              "\n",
              "       [[456, 339, 495, 154, 444],\n",
              "        [463, 222, 162, 133, 300],\n",
              "        [456, 277, 279, 154, 177]],\n",
              "\n",
              "       [[113, 343, 482, 241, 448],\n",
              "        [442, 386, 258, 189, 240],\n",
              "        [421, 131, 413, 392, 383]],\n",
              "\n",
              "       [[118, 193, 177, 194, 348],\n",
              "        [495, 256, 174, 316, 493],\n",
              "        [115, 118, 218, 171, 444]],\n",
              "\n",
              "       [[495, 245, 235, 303, 384],\n",
              "        [389, 350, 452, 144, 233],\n",
              "        [104, 171, 444, 444, 406]]])"
            ]
          },
          "metadata": {},
          "execution_count": 69
        }
      ]
    },
    {
      "cell_type": "code",
      "source": [
        "### Array Indexing and Slicing"
      ],
      "metadata": {
        "id": "7Cbhxp-NRKME"
      },
      "execution_count": 70,
      "outputs": []
    },
    {
      "cell_type": "code",
      "source": [
        "np.random.seed(10) \n",
        "r1 = np.random.randint(1,50,(8,6))\n",
        "r1"
      ],
      "metadata": {
        "colab": {
          "base_uri": "https://localhost:8080/"
        },
        "id": "hdsPL1AxSKVQ",
        "outputId": "1f6b44c0-c1f9-4211-bbff-9114bc4df5f1"
      },
      "execution_count": 72,
      "outputs": [
        {
          "output_type": "execute_result",
          "data": {
            "text/plain": [
              "array([[10, 37, 16,  1, 29, 26],\n",
              "       [30, 49, 30,  9, 10,  1],\n",
              "       [43, 41, 37, 17, 37, 48],\n",
              "       [12, 25, 44, 34,  9, 37],\n",
              "       [15, 14,  6, 14, 26, 14],\n",
              "       [29, 23, 31, 31, 26, 13],\n",
              "       [ 2, 32, 37, 28, 19, 30],\n",
              "       [14, 23, 24, 31, 12, 29]])"
            ]
          },
          "metadata": {},
          "execution_count": 72
        }
      ]
    },
    {
      "cell_type": "code",
      "source": [
        "len(r1)"
      ],
      "metadata": {
        "colab": {
          "base_uri": "https://localhost:8080/"
        },
        "id": "7LRgkcWGSUiU",
        "outputId": "d02257ca-7cf6-497f-c5e3-5d2fbc8f3abe"
      },
      "execution_count": 73,
      "outputs": [
        {
          "output_type": "execute_result",
          "data": {
            "text/plain": [
              "8"
            ]
          },
          "metadata": {},
          "execution_count": 73
        }
      ]
    },
    {
      "cell_type": "code",
      "source": [
        "r1[0]"
      ],
      "metadata": {
        "colab": {
          "base_uri": "https://localhost:8080/"
        },
        "id": "WtT9MkEWSfxL",
        "outputId": "234e965b-11cd-47ae-8068-c2a1a49e88b1"
      },
      "execution_count": 74,
      "outputs": [
        {
          "output_type": "execute_result",
          "data": {
            "text/plain": [
              "array([10, 37, 16,  1, 29, 26])"
            ]
          },
          "metadata": {},
          "execution_count": 74
        }
      ]
    },
    {
      "cell_type": "code",
      "source": [
        "r1[7]"
      ],
      "metadata": {
        "colab": {
          "base_uri": "https://localhost:8080/"
        },
        "id": "__LEBvYtSqUn",
        "outputId": "decd2a1c-299c-47c8-ae03-435d88126769"
      },
      "execution_count": 75,
      "outputs": [
        {
          "output_type": "execute_result",
          "data": {
            "text/plain": [
              "array([14, 23, 24, 31, 12, 29])"
            ]
          },
          "metadata": {},
          "execution_count": 75
        }
      ]
    },
    {
      "cell_type": "code",
      "source": [
        "r1[-1]"
      ],
      "metadata": {
        "colab": {
          "base_uri": "https://localhost:8080/"
        },
        "id": "L9x61VtSSsRP",
        "outputId": "61443f4c-107f-4e0b-9751-872b04323cfd"
      },
      "execution_count": 76,
      "outputs": [
        {
          "output_type": "execute_result",
          "data": {
            "text/plain": [
              "array([14, 23, 24, 31, 12, 29])"
            ]
          },
          "metadata": {},
          "execution_count": 76
        }
      ]
    },
    {
      "cell_type": "code",
      "source": [
        "r1[7,2]"
      ],
      "metadata": {
        "colab": {
          "base_uri": "https://localhost:8080/"
        },
        "id": "h-RXdVEsS0vh",
        "outputId": "807004ed-523f-4bc2-cd85-fcef4df43916"
      },
      "execution_count": 77,
      "outputs": [
        {
          "output_type": "execute_result",
          "data": {
            "text/plain": [
              "24"
            ]
          },
          "metadata": {},
          "execution_count": 77
        }
      ]
    },
    {
      "cell_type": "code",
      "source": [
        "r1[7][2]"
      ],
      "metadata": {
        "colab": {
          "base_uri": "https://localhost:8080/"
        },
        "id": "tcWDI_EPS9iD",
        "outputId": "5be66a30-cebf-4fdd-98c4-8f38b7fc3aff"
      },
      "execution_count": 78,
      "outputs": [
        {
          "output_type": "execute_result",
          "data": {
            "text/plain": [
              "24"
            ]
          },
          "metadata": {},
          "execution_count": 78
        }
      ]
    },
    {
      "cell_type": "code",
      "source": [
        "r1[:,:]   ## rows,cols"
      ],
      "metadata": {
        "colab": {
          "base_uri": "https://localhost:8080/"
        },
        "id": "6EXRbEE_TAhH",
        "outputId": "74660a85-0414-45e2-9aca-4f99d3565981"
      },
      "execution_count": 79,
      "outputs": [
        {
          "output_type": "execute_result",
          "data": {
            "text/plain": [
              "array([[10, 37, 16,  1, 29, 26],\n",
              "       [30, 49, 30,  9, 10,  1],\n",
              "       [43, 41, 37, 17, 37, 48],\n",
              "       [12, 25, 44, 34,  9, 37],\n",
              "       [15, 14,  6, 14, 26, 14],\n",
              "       [29, 23, 31, 31, 26, 13],\n",
              "       [ 2, 32, 37, 28, 19, 30],\n",
              "       [14, 23, 24, 31, 12, 29]])"
            ]
          },
          "metadata": {},
          "execution_count": 79
        }
      ]
    },
    {
      "cell_type": "code",
      "source": [
        "r1[2:6,:]"
      ],
      "metadata": {
        "colab": {
          "base_uri": "https://localhost:8080/"
        },
        "id": "VIwzrBrTTREE",
        "outputId": "e8c96ad6-4304-49fa-b837-18dcfe005d88"
      },
      "execution_count": 80,
      "outputs": [
        {
          "output_type": "execute_result",
          "data": {
            "text/plain": [
              "array([[43, 41, 37, 17, 37, 48],\n",
              "       [12, 25, 44, 34,  9, 37],\n",
              "       [15, 14,  6, 14, 26, 14],\n",
              "       [29, 23, 31, 31, 26, 13]])"
            ]
          },
          "metadata": {},
          "execution_count": 80
        }
      ]
    },
    {
      "cell_type": "code",
      "source": [
        "r1[2:,:]"
      ],
      "metadata": {
        "colab": {
          "base_uri": "https://localhost:8080/"
        },
        "id": "loG-ugCaTc3u",
        "outputId": "141ac63d-5edd-47b6-97a9-7133563b0aed"
      },
      "execution_count": 81,
      "outputs": [
        {
          "output_type": "execute_result",
          "data": {
            "text/plain": [
              "array([[43, 41, 37, 17, 37, 48],\n",
              "       [12, 25, 44, 34,  9, 37],\n",
              "       [15, 14,  6, 14, 26, 14],\n",
              "       [29, 23, 31, 31, 26, 13],\n",
              "       [ 2, 32, 37, 28, 19, 30],\n",
              "       [14, 23, 24, 31, 12, 29]])"
            ]
          },
          "metadata": {},
          "execution_count": 81
        }
      ]
    },
    {
      "cell_type": "code",
      "source": [
        "r1[:5,:]  ## start to 4"
      ],
      "metadata": {
        "colab": {
          "base_uri": "https://localhost:8080/"
        },
        "id": "xR5CDjTPTlxC",
        "outputId": "9f1617fa-8945-427f-ddfa-20fb1a46715e"
      },
      "execution_count": 82,
      "outputs": [
        {
          "output_type": "execute_result",
          "data": {
            "text/plain": [
              "array([[10, 37, 16,  1, 29, 26],\n",
              "       [30, 49, 30,  9, 10,  1],\n",
              "       [43, 41, 37, 17, 37, 48],\n",
              "       [12, 25, 44, 34,  9, 37],\n",
              "       [15, 14,  6, 14, 26, 14]])"
            ]
          },
          "metadata": {},
          "execution_count": 82
        }
      ]
    },
    {
      "cell_type": "code",
      "source": [
        "r1[:5] "
      ],
      "metadata": {
        "colab": {
          "base_uri": "https://localhost:8080/"
        },
        "id": "JF8sMlkTTuol",
        "outputId": "1cdd35b4-372a-4369-f002-76ea7a15984e"
      },
      "execution_count": 83,
      "outputs": [
        {
          "output_type": "execute_result",
          "data": {
            "text/plain": [
              "array([[10, 37, 16,  1, 29, 26],\n",
              "       [30, 49, 30,  9, 10,  1],\n",
              "       [43, 41, 37, 17, 37, 48],\n",
              "       [12, 25, 44, 34,  9, 37],\n",
              "       [15, 14,  6, 14, 26, 14]])"
            ]
          },
          "metadata": {},
          "execution_count": 83
        }
      ]
    },
    {
      "cell_type": "code",
      "source": [
        "r1"
      ],
      "metadata": {
        "colab": {
          "base_uri": "https://localhost:8080/"
        },
        "id": "PCyx_WpmT0FO",
        "outputId": "0b59a4f2-3a45-4d86-99c2-18a13f894987"
      },
      "execution_count": 84,
      "outputs": [
        {
          "output_type": "execute_result",
          "data": {
            "text/plain": [
              "array([[10, 37, 16,  1, 29, 26],\n",
              "       [30, 49, 30,  9, 10,  1],\n",
              "       [43, 41, 37, 17, 37, 48],\n",
              "       [12, 25, 44, 34,  9, 37],\n",
              "       [15, 14,  6, 14, 26, 14],\n",
              "       [29, 23, 31, 31, 26, 13],\n",
              "       [ 2, 32, 37, 28, 19, 30],\n",
              "       [14, 23, 24, 31, 12, 29]])"
            ]
          },
          "metadata": {},
          "execution_count": 84
        }
      ]
    },
    {
      "cell_type": "code",
      "source": [
        "r1[:,2:5]"
      ],
      "metadata": {
        "colab": {
          "base_uri": "https://localhost:8080/"
        },
        "id": "CFcQdJTsUAOU",
        "outputId": "a3f4d16a-db6c-4228-cc42-7d8db45a28cb"
      },
      "execution_count": 85,
      "outputs": [
        {
          "output_type": "execute_result",
          "data": {
            "text/plain": [
              "array([[16,  1, 29],\n",
              "       [30,  9, 10],\n",
              "       [37, 17, 37],\n",
              "       [44, 34,  9],\n",
              "       [ 6, 14, 26],\n",
              "       [31, 31, 26],\n",
              "       [37, 28, 19],\n",
              "       [24, 31, 12]])"
            ]
          },
          "metadata": {},
          "execution_count": 85
        }
      ]
    },
    {
      "cell_type": "code",
      "source": [
        "r1[2:5:,2:5]"
      ],
      "metadata": {
        "colab": {
          "base_uri": "https://localhost:8080/"
        },
        "id": "Rr47QpQIUMjk",
        "outputId": "7aedc9ed-d37b-47e1-8370-cdbc45977b8b"
      },
      "execution_count": 86,
      "outputs": [
        {
          "output_type": "execute_result",
          "data": {
            "text/plain": [
              "array([[37, 17, 37],\n",
              "       [44, 34,  9],\n",
              "       [ 6, 14, 26]])"
            ]
          },
          "metadata": {},
          "execution_count": 86
        }
      ]
    },
    {
      "cell_type": "code",
      "source": [
        "r1"
      ],
      "metadata": {
        "colab": {
          "base_uri": "https://localhost:8080/"
        },
        "id": "Z2ewghOcVHUZ",
        "outputId": "aeed182f-2c4d-4a1d-de44-b6530da416af"
      },
      "execution_count": 92,
      "outputs": [
        {
          "output_type": "execute_result",
          "data": {
            "text/plain": [
              "array([[10, 37, 16,  1, 29, 26],\n",
              "       [30, 49, 30,  9, 10,  1],\n",
              "       [43, 41, 37, 17, 37, 48],\n",
              "       [12, 25, 44, 34,  9, 37],\n",
              "       [15, 14,  6, 14, 26, 14],\n",
              "       [29, 23, 31, 31, 26, 13],\n",
              "       [ 2, 32, 37, 28, 19, 30],\n",
              "       [14, 23, 24, 31, 12, 29]])"
            ]
          },
          "metadata": {},
          "execution_count": 92
        }
      ]
    },
    {
      "cell_type": "code",
      "source": [
        "r1[2,3]"
      ],
      "metadata": {
        "colab": {
          "base_uri": "https://localhost:8080/"
        },
        "id": "rHPLvjzCUUdd",
        "outputId": "cdb306f6-665e-478b-a06d-aa668deb6085"
      },
      "execution_count": 88,
      "outputs": [
        {
          "output_type": "execute_result",
          "data": {
            "text/plain": [
              "17"
            ]
          },
          "metadata": {},
          "execution_count": 88
        }
      ]
    },
    {
      "cell_type": "code",
      "source": [
        "r1[2][3]"
      ],
      "metadata": {
        "colab": {
          "base_uri": "https://localhost:8080/"
        },
        "id": "ZmePsXvUUtyH",
        "outputId": "cc1a8076-8b7b-4749-dcc6-7f8987c33b3e"
      },
      "execution_count": 91,
      "outputs": [
        {
          "output_type": "execute_result",
          "data": {
            "text/plain": [
              "17"
            ]
          },
          "metadata": {},
          "execution_count": 91
        }
      ]
    },
    {
      "cell_type": "code",
      "source": [],
      "metadata": {
        "id": "46oH3j7NU3XY"
      },
      "execution_count": null,
      "outputs": []
    }
  ]
}