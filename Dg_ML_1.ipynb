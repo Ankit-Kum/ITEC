{
  "nbformat": 4,
  "nbformat_minor": 0,
  "metadata": {
    "colab": {
      "provenance": []
    },
    "kernelspec": {
      "name": "python3",
      "display_name": "Python 3"
    },
    "language_info": {
      "name": "python"
    }
  },
  "cells": [
    {
      "cell_type": "markdown",
      "source": [
        "**Machine Learning**\n",
        "* To train a system or a machine for making prediction about an event using historical sets of data and mathematical algorithms"
      ],
      "metadata": {
        "id": "AKJB7ymSgFtE"
      }
    },
    {
      "cell_type": "markdown",
      "source": [
        "**Types of Machine Learning**\n",
        "* Supervised Machine Learning\n",
        "  * The data used here will have features and labels i.e. the region behind an event and the final event that happened.\n",
        "  * for example Advertisement budget of a company and crossponding sales for sales value predictions\n",
        "  ****\n",
        "* Unsupervised Machine Learning\n",
        "  * The data here used will only have features i.e. unlabeled data\n",
        "  * for example Finding the potential and non-potential buyers using shoping behaviour data, Generate a recommendation system based on intrest pattern shown\n",
        "  ****\n",
        "* Reinforcement Machine Learning\n",
        "  * Agent\n",
        "  * Environment\n",
        "  * Action\n",
        "  * Reward\n",
        "  * Punishment"
      ],
      "metadata": {
        "id": "outIHXUzgdFf"
      }
    },
    {
      "cell_type": "markdown",
      "source": [
        "**Supervised Machine Learning**\n",
        "* Regression - if target value to be predicted is continous. for example sales value prediction, stock price prediction, employee salary predictions.\n",
        "* Classification - if the target value to be predicted is categorical. for example profit or loss, purchase or not purchase"
      ],
      "metadata": {
        "id": "VFdQNT8Hn2h3"
      }
    },
    {
      "cell_type": "markdown",
      "source": [
        "**Regression**\n",
        "* Linear Regression\n",
        "* Non - Linear Regression"
      ],
      "metadata": {
        "id": "ImW08E03pFVD"
      }
    },
    {
      "cell_type": "code",
      "execution_count": null,
      "metadata": {
        "id": "b5vkhC_KgDj1"
      },
      "outputs": [],
      "source": [
        "import numpy as np\n",
        "x = np.array([5 , 7.2 , 9 , 6.5 , 8])            #features\n",
        "y = np.array([6.1 , 7.1 , 8.3 , 7.6 , 6.9])       #label"
      ]
    },
    {
      "cell_type": "code",
      "source": [
        "import matplotlib.pyplot as plt\n",
        "plt.scatter(x,y)\n",
        "plt.show()"
      ],
      "metadata": {
        "colab": {
          "base_uri": "https://localhost:8080/",
          "height": 430
        },
        "id": "z0wQZ30HpmRn",
        "outputId": "9159731c-be8e-4bfe-80a6-dac263d43be1"
      },
      "execution_count": null,
      "outputs": [
        {
          "output_type": "display_data",
          "data": {
            "text/plain": [
              "<Figure size 640x480 with 1 Axes>"
            ],
            "image/png": "[encoded data removed]"
          },
          "metadata": {}
        }
      ]
    },
    {
      "cell_type": "code",
      "source": [
        "w0 = 1\n",
        "w1 = 1\n",
        "yh = w0 + w1 * x\n",
        "print(yh)"
      ],
      "metadata": {
        "colab": {
          "base_uri": "https://localhost:8080/"
        },
        "id": "6RfedoZjp4I_",
        "outputId": "efff330c-df60-4889-880d-660136a8db07"
      },
      "execution_count": null,
      "outputs": [
        {
          "output_type": "stream",
          "name": "stdout",
          "text": [
            "[ 6.   8.2 10.   7.5  9. ]\n"
          ]
        }
      ]
    },
    {
      "cell_type": "code",
      "source": [
        "import matplotlib.pyplot as plt\n",
        "\n",
        "plt.scatter(x,y)\n",
        "plt.plot(x , yh , 'r')\n",
        "\n",
        "plt.show()"
      ],
      "metadata": {
        "colab": {
          "base_uri": "https://localhost:8080/",
          "height": 248
        },
        "id": "r3Lh_a5_riJd",
        "outputId": "614e4209-d932-4a32-8768-140db6440548"
      },
      "execution_count": null,
      "outputs": [
        {
          "output_type": "error",
          "ename": "NameError",
          "evalue": "ignored",
          "traceback": [
            "\u001b[0;31m---------------------------------------------------------------------------\u001b[0m",
            "\u001b[0;31mNameError\u001b[0m                                 Traceback (most recent call last)",
            "\u001b[0;32m<ipython-input-1-8d6cc6ba2af0>\u001b[0m in \u001b[0;36m<cell line: 3>\u001b[0;34m()\u001b[0m\n\u001b[1;32m      1\u001b[0m \u001b[0;32mimport\u001b[0m \u001b[0mmatplotlib\u001b[0m\u001b[0;34m.\u001b[0m\u001b[0mpyplot\u001b[0m \u001b[0;32mas\u001b[0m \u001b[0mplt\u001b[0m\u001b[0;34m\u001b[0m\u001b[0;34m\u001b[0m\u001b[0m\n\u001b[1;32m      2\u001b[0m \u001b[0;34m\u001b[0m\u001b[0m\n\u001b[0;32m----> 3\u001b[0;31m \u001b[0mplt\u001b[0m\u001b[0;34m.\u001b[0m\u001b[0mscatter\u001b[0m\u001b[0;34m(\u001b[0m\u001b[0mx\u001b[0m\u001b[0;34m,\u001b[0m\u001b[0my\u001b[0m\u001b[0;34m)\u001b[0m\u001b[0;34m\u001b[0m\u001b[0;34m\u001b[0m\u001b[0m\n\u001b[0m\u001b[1;32m      4\u001b[0m \u001b[0mplt\u001b[0m\u001b[0;34m.\u001b[0m\u001b[0mplot\u001b[0m\u001b[0;34m(\u001b[0m\u001b[0mx\u001b[0m \u001b[0;34m,\u001b[0m \u001b[0myh\u001b[0m \u001b[0;34m,\u001b[0m \u001b[0;34m'r'\u001b[0m\u001b[0;34m)\u001b[0m\u001b[0;34m\u001b[0m\u001b[0;34m\u001b[0m\u001b[0m\n\u001b[1;32m      5\u001b[0m \u001b[0;34m\u001b[0m\u001b[0m\n",
            "\u001b[0;31mNameError\u001b[0m: name 'x' is not defined"
          ]
        }
      ]
    },
    {
      "cell_type": "code",
      "source": [
        "(y - yh)               #expected value - calculated value"
      ],
      "metadata": {
        "colab": {
          "base_uri": "https://localhost:8080/"
        },
        "id": "F_nTtAp6r7VV",
        "outputId": "c4ae907b-956c-4cdf-a1c8-cb712d9379f9"
      },
      "execution_count": null,
      "outputs": [
        {
          "output_type": "execute_result",
          "data": {
            "text/plain": [
              "array([ 0.1, -1.1, -1.7,  0.1, -2.1])"
            ]
          },
          "metadata": {},
          "execution_count": 36
        }
      ]
    },
    {
      "cell_type": "code",
      "source": [
        "#mean absolute error\n",
        "mae = abs(y - yh).mean()\n",
        "print(mae)"
      ],
      "metadata": {
        "colab": {
          "base_uri": "https://localhost:8080/"
        },
        "id": "_scx1kkJssGp",
        "outputId": "1e9d624d-304a-4ee6-80a4-ea2dedd18dbe"
      },
      "execution_count": null,
      "outputs": [
        {
          "output_type": "stream",
          "name": "stdout",
          "text": [
            "0.6434088742045108\n"
          ]
        }
      ]
    },
    {
      "cell_type": "code",
      "source": [
        "#Mean Squared Error\n",
        "mse = ((y - yh)**2).mean()\n",
        "print(mse)"
      ],
      "metadata": {
        "colab": {
          "base_uri": "https://localhost:8080/"
        },
        "id": "Dc_TtLCorI6I",
        "outputId": "8341ee78-d981-4978-b20a-c37256cab8ee"
      },
      "execution_count": null,
      "outputs": [
        {
          "output_type": "stream",
          "name": "stdout",
          "text": [
            "1.7059999999999989\n"
          ]
        }
      ]
    },
    {
      "cell_type": "code",
      "source": [
        "#Root Mean Squared Error\n",
        "rmse = (((y - yh)**2).mean())**0.5\n",
        "print(rmse)"
      ],
      "metadata": {
        "colab": {
          "base_uri": "https://localhost:8080/"
        },
        "id": "uUz4VM9nrLEq",
        "outputId": "8a06c4f9-affe-448c-c384-26e6eae42eaf"
      },
      "execution_count": null,
      "outputs": [
        {
          "output_type": "stream",
          "name": "stdout",
          "text": [
            "1.3061393493804552\n"
          ]
        }
      ]
    },
    {
      "cell_type": "markdown",
      "source": [
        "**Error Optimization Process - Gradient Descent**\n",
        " * Tune the values of coefficients i.e. w0 & w1 to change the value of yh which leads to decrease in error value"
      ],
      "metadata": {
        "id": "UHlNproUtalC"
      }
    },
    {
      "cell_type": "code",
      "source": [
        "#Calculate gradient\n",
        "#e = (y - yh)**2 = (y - w0 - w1*x)**2\n",
        "\n",
        "dew0 = -2 * ((y - yh)).mean()\n",
        "dew1 = -2 * ((y - yh) * x).mean()\n",
        "\n",
        "print(dew0 , dew1)"
      ],
      "metadata": {
        "colab": {
          "base_uri": "https://localhost:8080/"
        },
        "id": "-gWzsQm8s_Bp",
        "outputId": "94479624-7490-4ebd-e7c4-1fac5ad54f22"
      },
      "execution_count": null,
      "outputs": [
        {
          "output_type": "stream",
          "name": "stdout",
          "text": [
            "1.8799999999999997 15.547999999999996\n"
          ]
        }
      ]
    },
    {
      "cell_type": "code",
      "source": [
        "lr = 0.01\n",
        "w0 = w0 - lr * dew0\n",
        "w1 = w1 - lr * dew1\n",
        "\n",
        "print(w0 , w1)"
      ],
      "metadata": {
        "colab": {
          "base_uri": "https://localhost:8080/"
        },
        "id": "E462McLSzOa7",
        "outputId": "42fde519-595b-4328-bda7-3c0b74b93699"
      },
      "execution_count": null,
      "outputs": [
        {
          "output_type": "stream",
          "name": "stdout",
          "text": [
            "0.9812 0.84452\n"
          ]
        }
      ]
    },
    {
      "cell_type": "code",
      "source": [
        "yh = w0 + w1 * x\n",
        "#Mean Squared Error\n",
        "mse = ((y - yh)**2).mean()\n",
        "print(mse)"
      ],
      "metadata": {
        "colab": {
          "base_uri": "https://localhost:8080/"
        },
        "id": "kCzOSBKJzg0E",
        "outputId": "15d00541-5d15-4c8a-d489-7513271ca3e0"
      },
      "execution_count": null,
      "outputs": [
        {
          "output_type": "stream",
          "name": "stdout",
          "text": [
            "0.5721711203871993\n"
          ]
        }
      ]
    },
    {
      "cell_type": "code",
      "source": [
        "w0 = 1\n",
        "w1 = 1\n",
        "for i in range(0,200):\n",
        "  yh = w0 + w1 * x\n",
        "\n",
        "  dew0 = -2 * ((y - yh)).mean()\n",
        "  dew1 = -2 * ((y - yh) * x).mean()\n",
        "\n",
        "  lr = 0.01\n",
        "  w0 = w0 - lr * dew0\n",
        "  w1 = w1 - lr * dew1\n",
        "\n",
        "  mse = ((y - yh)**2).mean()\n",
        "  print(i,mse)"
      ],
      "metadata": {
        "colab": {
          "base_uri": "https://localhost:8080/"
        },
        "id": "wb9uU1TwzmMk",
        "outputId": "5501a301-4ea4-472a-9968-ff183f516cd2"
      },
      "execution_count": null,
      "outputs": [
        {
          "output_type": "stream",
          "name": "stdout",
          "text": [
            "0 1.7059999999999989\n",
            "1 0.5721711203871993\n",
            "2 0.565192368135994\n",
            "3 0.5646676526908831\n",
            "4 0.5641805615039478\n",
            "5 0.5636943474291589\n",
            "6 0.5632087991144628\n",
            "7 0.562723914446382\n",
            "8 0.5622396925109607\n",
            "9 0.5617561324023479\n",
            "10 0.5612732332159686\n",
            "11 0.5607909940484844\n",
            "12 0.5603094139977933\n",
            "13 0.5598284921630239\n",
            "14 0.5593482276445376\n",
            "15 0.5588686195439252\n",
            "16 0.5583896669640046\n",
            "17 0.5579113690088209\n",
            "18 0.5574337247836442\n",
            "19 0.5569567333949659\n",
            "20 0.5564803939504994\n",
            "21 0.5560047055591781\n",
            "22 0.5555296673311532\n",
            "23 0.5550552783777911\n",
            "24 0.5545815378116747\n",
            "25 0.5541084447465983\n",
            "26 0.5536359982975672\n",
            "27 0.553164197580797\n",
            "28 0.5526930417137119\n",
            "29 0.5522225298149408\n",
            "30 0.5517526610043193\n",
            "31 0.551283434402883\n",
            "32 0.5508148491328718\n",
            "33 0.5503469043177244\n",
            "34 0.5498795990820762\n",
            "35 0.549412932551762\n",
            "36 0.5489469038538075\n",
            "37 0.5484815121164343\n",
            "38 0.5480167564690561\n",
            "39 0.5475526360422732\n",
            "40 0.547089149967878\n",
            "41 0.5466262973788467\n",
            "42 0.5461640774093425\n",
            "43 0.5457024891947101\n",
            "44 0.5452415318714766\n",
            "45 0.5447812045773526\n",
            "46 0.5443215064512213\n",
            "47 0.543862436633147\n",
            "48 0.5434039942643685\n",
            "49 0.5429461784872979\n",
            "50 0.54248898844552\n",
            "51 0.5420324232837894\n",
            "52 0.54157648214803\n",
            "53 0.5411211641853333\n",
            "54 0.5406664685439558\n",
            "55 0.5402123943733199\n",
            "56 0.5397589408240082\n",
            "57 0.5393061070477649\n",
            "58 0.5388538921974965\n",
            "59 0.5384022954272621\n",
            "60 0.5379513158922811\n",
            "61 0.5375009527489258\n",
            "62 0.5370512051547224\n",
            "63 0.5366020722683482\n",
            "64 0.5361535532496298\n",
            "65 0.5357056472595428\n",
            "66 0.5352583534602094\n",
            "67 0.5348116710148983\n",
            "68 0.5343655990880188\n",
            "69 0.5339201368451256\n",
            "70 0.5334752834529111\n",
            "71 0.5330310380792079\n",
            "72 0.5325873998929872\n",
            "73 0.532144368064354\n",
            "74 0.5317019417645483\n",
            "75 0.531260120165944\n",
            "76 0.5308189024420439\n",
            "77 0.530378287767482\n",
            "78 0.529938275318021\n",
            "79 0.5294988642705485\n",
            "80 0.5290600538030772\n",
            "81 0.5286218430947455\n",
            "82 0.5281842313258112\n",
            "83 0.5277472176776533\n",
            "84 0.5273108013327705\n",
            "85 0.5268749814747781\n",
            "86 0.5264397572884069\n",
            "87 0.5260051279595027\n",
            "88 0.5255710926750243\n",
            "89 0.525137650623041\n",
            "90 0.5247048009927313\n",
            "91 0.5242725429743837\n",
            "92 0.5238408757593919\n",
            "93 0.5234097985402557\n",
            "94 0.522979310510578\n",
            "95 0.5225494108650641\n",
            "96 0.5221200987995196\n",
            "97 0.5216913735108502\n",
            "98 0.5212632341970573\n",
            "99 0.5208356800572413\n",
            "100 0.520408710291596\n",
            "101 0.5199823241014065\n",
            "102 0.5195565206890527\n",
            "103 0.5191312992580015\n",
            "104 0.5187066590128119\n",
            "105 0.5182825991591277\n",
            "106 0.5178591189036788\n",
            "107 0.5174362174542791\n",
            "108 0.5170138940198264\n",
            "109 0.5165921478102999\n",
            "110 0.5161709780367567\n",
            "111 0.5157503839113331\n",
            "112 0.5153303646472438\n",
            "113 0.5149109194587759\n",
            "114 0.5144920475612926\n",
            "115 0.5140737481712294\n",
            "116 0.5136560205060923\n",
            "117 0.513238863784456\n",
            "118 0.5128222772259644\n",
            "119 0.512406260051328\n",
            "120 0.5119908114823216\n",
            "121 0.5115759307417846\n",
            "122 0.5111616170536173\n",
            "123 0.5107478696427827\n",
            "124 0.510334687735301\n",
            "125 0.5099220705582515\n",
            "126 0.5095100173397702\n",
            "127 0.5090985273090467\n",
            "128 0.5086875996963253\n",
            "129 0.5082772337329022\n",
            "130 0.5078674286511243\n",
            "131 0.5074581836843872\n",
            "132 0.507049498067134\n",
            "133 0.5066413710348565\n",
            "134 0.5062338018240882\n",
            "135 0.5058267896724076\n",
            "136 0.5054203338184362\n",
            "137 0.505014433501834\n",
            "138 0.5046090879633028\n",
            "139 0.5042042964445793\n",
            "140 0.5038000581884388\n",
            "141 0.5033963724386906\n",
            "142 0.5029932384401784\n",
            "143 0.5025906554387778\n",
            "144 0.5021886226813925\n",
            "145 0.5017871394159596\n",
            "146 0.5013862048914421\n",
            "147 0.5009858183578293\n",
            "148 0.5005859790661367\n",
            "149 0.5001866862684017\n",
            "150 0.4997879392176861\n",
            "151 0.49938973716807017\n",
            "152 0.49899207937465706\n",
            "153 0.49859496509356455\n",
            "154 0.4981983935819289\n",
            "155 0.49780236409790257\n",
            "156 0.4974068759006496\n",
            "157 0.49701192825034857\n",
            "158 0.49661752040818835\n",
            "159 0.4962236516363677\n",
            "160 0.495830321198094\n",
            "161 0.4954375283575813\n",
            "162 0.4950452723800501\n",
            "163 0.4946535525317247\n",
            "164 0.49426236807983137\n",
            "165 0.4938717182925997\n",
            "166 0.493481602439258\n",
            "167 0.4930920197900341\n",
            "168 0.49270296961615356\n",
            "169 0.4923144511898368\n",
            "170 0.4919264637843005\n",
            "171 0.49153900667375383\n",
            "172 0.49115207913339737\n",
            "173 0.49076568043942376\n",
            "174 0.4903798098690138\n",
            "175 0.48999446670033764\n",
            "176 0.4896096502125493\n",
            "177 0.48922535968579134\n",
            "178 0.4888415944011868\n",
            "179 0.48845835364084544\n",
            "180 0.4880756366878537\n",
            "181 0.48769344282628124\n",
            "182 0.4873117713411753\n",
            "183 0.4869306215185595\n",
            "184 0.48654999264543386\n",
            "185 0.4861698840097727\n",
            "186 0.48579029490052494\n",
            "187 0.48541122460760866\n",
            "188 0.48503267242191495\n",
            "189 0.4846546376353027\n",
            "190 0.4842771195405996\n",
            "191 0.48390011743159944\n",
            "192 0.48352363060305975\n",
            "193 0.48314765835070517\n",
            "194 0.48277219997122034\n",
            "195 0.4823972547622525\n",
            "196 0.4820228220224082\n",
            "197 0.48164890105125285\n",
            "198 0.481275491149308\n",
            "199 0.4809025916180542\n"
          ]
        }
      ]
    },
    {
      "cell_type": "code",
      "source": [
        "print(w0 , w1)"
      ],
      "metadata": {
        "colab": {
          "base_uri": "https://localhost:8080/"
        },
        "id": "du3ACjD40-GY",
        "outputId": "32b48e4d-01c0-4d1f-b3e1-17d10c2f8d30"
      },
      "execution_count": null,
      "outputs": [
        {
          "output_type": "stream",
          "name": "stdout",
          "text": [
            "1.3902696732217723 0.8003029608262324\n"
          ]
        }
      ]
    },
    {
      "cell_type": "code",
      "source": [
        "plt.scatter(x,y)\n",
        "plt.plot(x , yh , 'r')\n",
        "\n",
        "plt.show()"
      ],
      "metadata": {
        "colab": {
          "base_uri": "https://localhost:8080/",
          "height": 430
        },
        "id": "gnp8Nj0c1Ch3",
        "outputId": "e52e317e-55eb-4f41-85aa-78ba5954f878"
      },
      "execution_count": null,
      "outputs": [
        {
          "output_type": "display_data",
          "data": {
            "text/plain": [
              "<Figure size 640x480 with 1 Axes>"
            ],
            "image/png": "[encoded data removed]"
          },
          "metadata": {}
        }
      ]
    },
    {
      "cell_type": "code",
      "source": [
        "x_new = 6.5\n",
        "y_new = w0 + w1 * x_new\n",
        "print(y_new)"
      ],
      "metadata": {
        "colab": {
          "base_uri": "https://localhost:8080/"
        },
        "id": "e1ta6Gk61HQw",
        "outputId": "3e6f59f6-e5d8-40c0-a070-a8dbceb298fa"
      },
      "execution_count": null,
      "outputs": [
        {
          "output_type": "stream",
          "name": "stdout",
          "text": [
            "6.592238918592283\n"
          ]
        }
      ]
    },
    {
      "cell_type": "code",
      "source": [
        "mae = abs(y - yh).mean()\n",
        "print(mae)"
      ],
      "metadata": {
        "colab": {
          "base_uri": "https://localhost:8080/"
        },
        "id": "QD6xQpjg1SNf",
        "outputId": "71efb7c6-cdcc-4d2b-d8cb-7faa2b161eb3"
      },
      "execution_count": null,
      "outputs": [
        {
          "output_type": "stream",
          "name": "stdout",
          "text": [
            "0.5910980785242147\n"
          ]
        }
      ]
    },
    {
      "cell_type": "code",
      "source": [],
      "metadata": {
        "id": "VK9toWMK1WN7"
      },
      "execution_count": null,
      "outputs": []
    }
  ]
}