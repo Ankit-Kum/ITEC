{
  "nbformat": 4,
  "nbformat_minor": 0,
  "metadata": {
    "colab": {
      "provenance": []
    },
    "kernelspec": {
      "name": "python3",
      "display_name": "Python 3"
    },
    "language_info": {
      "name": "python"
    }
  },
  "cells": [
    {
      "cell_type": "markdown",
      "source": [
        "**Operators**"
      ],
      "metadata": {
        "id": "bUhPk2lsf7dP"
      }
    },
    {
      "cell_type": "code",
      "source": [],
      "metadata": {
        "id": "VaFfu4m-ORwC"
      },
      "execution_count": null,
      "outputs": []
    },
    {
      "cell_type": "markdown",
      "source": [
        "* Arthmetic"
      ],
      "metadata": {
        "id": "1bm8zZuxf-bE"
      }
    },
    {
      "cell_type": "code",
      "execution_count": null,
      "metadata": {
        "colab": {
          "base_uri": "https://localhost:8080/"
        },
        "id": "BmMPdATmf31L",
        "outputId": "17ea5ab3-9409-4cff-8f13-421398d8366a"
      },
      "outputs": [
        {
          "output_type": "stream",
          "name": "stdout",
          "text": [
            "22\n",
            "12\n",
            "3.4\n",
            "85\n",
            "1419857\n",
            "2\n",
            "3\n"
          ]
        }
      ],
      "source": [
        "a = 17\n",
        "b = 5\n",
        "\n",
        "print(a + b)\n",
        "print(a - b)\n",
        "print(a / b)\n",
        "print(a * b)\n",
        "print(a ** b)\n",
        "print(a % b)\n",
        "print(a // b)"
      ]
    },
    {
      "cell_type": "markdown",
      "source": [
        "* Comparasion"
      ],
      "metadata": {
        "id": "Up_GpJ_wgQ6J"
      }
    },
    {
      "cell_type": "code",
      "source": [
        "print(a == b)\n",
        "print(a != b)\n",
        "print(a > b)\n",
        "print(a < b)\n",
        "print(a >= b)\n",
        "print(a <= b)"
      ],
      "metadata": {
        "colab": {
          "base_uri": "https://localhost:8080/"
        },
        "id": "FYHhwYj8gNaz",
        "outputId": "176f7742-25aa-4815-8ff7-9f35911cef2b"
      },
      "execution_count": null,
      "outputs": [
        {
          "output_type": "stream",
          "name": "stdout",
          "text": [
            "False\n",
            "True\n",
            "True\n",
            "False\n",
            "True\n",
            "False\n"
          ]
        }
      ]
    },
    {
      "cell_type": "markdown",
      "source": [
        "* Logical Operator"
      ],
      "metadata": {
        "id": "C9FH_mfrgxbK"
      }
    },
    {
      "cell_type": "code",
      "source": [
        "a = 16\n",
        "b = 9\n",
        "\n",
        "print(a > 10 and b > 10)"
      ],
      "metadata": {
        "colab": {
          "base_uri": "https://localhost:8080/"
        },
        "id": "fHUV0Yx5ggCy",
        "outputId": "c000e17f-80dc-4404-9fe6-ac04fa674e77"
      },
      "execution_count": null,
      "outputs": [
        {
          "output_type": "stream",
          "name": "stdout",
          "text": [
            "False\n"
          ]
        }
      ]
    },
    {
      "cell_type": "code",
      "source": [
        "print(True and True)\n",
        "print(True and False)\n",
        "print(False and True)\n",
        "print(False and False)"
      ],
      "metadata": {
        "colab": {
          "base_uri": "https://localhost:8080/"
        },
        "id": "I-BOkBi2hRdl",
        "outputId": "3ffe12f8-e584-48cb-8f17-274100fe2eb6"
      },
      "execution_count": null,
      "outputs": [
        {
          "output_type": "stream",
          "name": "stdout",
          "text": [
            "True\n",
            "False\n",
            "False\n",
            "False\n"
          ]
        }
      ]
    },
    {
      "cell_type": "code",
      "source": [
        "print(a > 10 or b > 10)"
      ],
      "metadata": {
        "colab": {
          "base_uri": "https://localhost:8080/"
        },
        "id": "ngbY905Kg_H6",
        "outputId": "529a7cdd-bb58-4882-d1e0-55b8599e1712"
      },
      "execution_count": null,
      "outputs": [
        {
          "output_type": "stream",
          "name": "stdout",
          "text": [
            "True\n"
          ]
        }
      ]
    },
    {
      "cell_type": "code",
      "source": [
        "print(True or True)\n",
        "print(True or False)\n",
        "print(False or True)\n",
        "print(False or False)"
      ],
      "metadata": {
        "colab": {
          "base_uri": "https://localhost:8080/"
        },
        "id": "CiK3JVmqhG5e",
        "outputId": "c2e62fe7-658b-41b3-91a5-34de6dcb8020"
      },
      "execution_count": null,
      "outputs": [
        {
          "output_type": "stream",
          "name": "stdout",
          "text": [
            "True\n",
            "True\n",
            "True\n",
            "False\n"
          ]
        }
      ]
    },
    {
      "cell_type": "markdown",
      "source": [
        "* Assignment Operator"
      ],
      "metadata": {
        "id": "7ouT1493hi89"
      }
    },
    {
      "cell_type": "code",
      "source": [
        "a = 9\n",
        "print(a)"
      ],
      "metadata": {
        "colab": {
          "base_uri": "https://localhost:8080/"
        },
        "id": "67A4RIWSheZ1",
        "outputId": "74286b90-bf18-48da-891a-da3bda02f2c7"
      },
      "execution_count": null,
      "outputs": [
        {
          "output_type": "stream",
          "name": "stdout",
          "text": [
            "9\n"
          ]
        }
      ]
    },
    {
      "cell_type": "code",
      "source": [
        "a += 2\n",
        "print(a)"
      ],
      "metadata": {
        "colab": {
          "base_uri": "https://localhost:8080/"
        },
        "id": "KY3TUfeFhoWt",
        "outputId": "9d9f18eb-791d-4509-df4d-9b727822d8c6"
      },
      "execution_count": null,
      "outputs": [
        {
          "output_type": "stream",
          "name": "stdout",
          "text": [
            "11\n"
          ]
        }
      ]
    },
    {
      "cell_type": "code",
      "source": [
        "a -= 5\n",
        "print(a)"
      ],
      "metadata": {
        "colab": {
          "base_uri": "https://localhost:8080/"
        },
        "id": "rGyR-HgZhuNY",
        "outputId": "ec3101b1-d643-40a6-f83a-a8dff80c8bc1"
      },
      "execution_count": null,
      "outputs": [
        {
          "output_type": "stream",
          "name": "stdout",
          "text": [
            "6\n"
          ]
        }
      ]
    },
    {
      "cell_type": "code",
      "source": [
        "a *= 2\n",
        "print(a)"
      ],
      "metadata": {
        "colab": {
          "base_uri": "https://localhost:8080/"
        },
        "id": "NcKP92rWhwYA",
        "outputId": "eba6fd1d-bc87-42ad-c7aa-d416bc9a8715"
      },
      "execution_count": null,
      "outputs": [
        {
          "output_type": "stream",
          "name": "stdout",
          "text": [
            "12\n"
          ]
        }
      ]
    },
    {
      "cell_type": "code",
      "source": [
        "a /= 3\n",
        "print(a)"
      ],
      "metadata": {
        "colab": {
          "base_uri": "https://localhost:8080/"
        },
        "id": "Ts8BkuZVh0cx",
        "outputId": "4b0f8ed6-e998-42a7-dd4a-0ecd7fa2d49b"
      },
      "execution_count": null,
      "outputs": [
        {
          "output_type": "stream",
          "name": "stdout",
          "text": [
            "4.0\n"
          ]
        }
      ]
    },
    {
      "cell_type": "code",
      "source": [
        "a **= 2\n",
        "print(a)"
      ],
      "metadata": {
        "colab": {
          "base_uri": "https://localhost:8080/"
        },
        "id": "nV_-rPFYh4EE",
        "outputId": "dda92138-53f7-4b59-adc7-1a2cae2ff164"
      },
      "execution_count": null,
      "outputs": [
        {
          "output_type": "stream",
          "name": "stdout",
          "text": [
            "16.0\n"
          ]
        }
      ]
    },
    {
      "cell_type": "markdown",
      "source": [
        "**Conditional Programming**"
      ],
      "metadata": {
        "id": "vKKBzXafiBft"
      }
    },
    {
      "cell_type": "code",
      "source": [
        "age = 19\n",
        "\n",
        "if age >= 18:\n",
        "  print('You are eligible to Vote')\n",
        "else:\n",
        "  print('You are not eligible to vote')"
      ],
      "metadata": {
        "colab": {
          "base_uri": "https://localhost:8080/"
        },
        "id": "fpIgfS9Bh7vP",
        "outputId": "6a4017e8-66f2-42e5-b6bd-ae02137e9b0b"
      },
      "execution_count": null,
      "outputs": [
        {
          "output_type": "stream",
          "name": "stdout",
          "text": [
            "You are eligible to Vote\n"
          ]
        }
      ]
    },
    {
      "cell_type": "code",
      "source": [
        "age = int(input('Enter your age'))    #by default user inputs are in string form => to convert into integer use typecasting\n",
        "\n",
        "if age >= 18:\n",
        "  print('You are eligible to Vote')\n",
        "else:\n",
        "  print('You are not eligible to vote')"
      ],
      "metadata": {
        "colab": {
          "base_uri": "https://localhost:8080/"
        },
        "id": "RRq1TTKyiN_A",
        "outputId": "874b46d5-5c49-4dfa-a0c6-558179a7ae64"
      },
      "execution_count": null,
      "outputs": [
        {
          "output_type": "stream",
          "name": "stdout",
          "text": [
            "Enter your age17\n",
            "You are not eligible to vote\n"
          ]
        }
      ]
    },
    {
      "cell_type": "code",
      "source": [
        "#Create a login activity\n",
        "#if userid == 'abcde' and password == '12345' => Login sucesssfull else => incorrect creds..\n",
        "\n",
        "userid = input('Enter user Id')\n",
        "userpass = input('Enter user Password')\n",
        "\n",
        "if userid == 'abcde' and userpass == '12345':\n",
        "  print('Successfull Login')\n",
        "else:\n",
        "  print('Incorrect Crediantials')"
      ],
      "metadata": {
        "colab": {
          "base_uri": "https://localhost:8080/"
        },
        "id": "OgXae4wdi7Yv",
        "outputId": "91af4d9e-6070-4dfb-d5f5-e0571ab7a700"
      },
      "execution_count": null,
      "outputs": [
        {
          "output_type": "stream",
          "name": "stdout",
          "text": [
            "Enter user Idabcde\n",
            "Enter user Password12345\n",
            "Successfull Login\n"
          ]
        }
      ]
    },
    {
      "cell_type": "code",
      "source": [
        "#fetch user id\n",
        "#if user id is correct => fetch password => if password is correct => Login successfull else 'Incorrect Password'\n",
        "#if user id is incorrect => \"Not registered User\"\n",
        "\n",
        "userid = input('Enter user Id')\n",
        "\n",
        "if userid == 'abcde':\n",
        "  userpass = input('Enter user Password')\n",
        "  if userpass == '12345':\n",
        "    print('Login successfull')\n",
        "  else:\n",
        "    print('Incorrect Password')\n",
        "else:\n",
        "  print('Unregistered User')"
      ],
      "metadata": {
        "colab": {
          "base_uri": "https://localhost:8080/"
        },
        "id": "kRahtpYDl-I7",
        "outputId": "b2b82994-5779-4a55-a3d3-92f004b1fb50"
      },
      "execution_count": null,
      "outputs": [
        {
          "output_type": "stream",
          "name": "stdout",
          "text": [
            "Enter user Idabcdet\n",
            "Unregistered User\n"
          ]
        }
      ]
    },
    {
      "cell_type": "markdown",
      "source": [
        "**Loop**\n",
        " * for loop\n",
        " * while loop"
      ],
      "metadata": {
        "id": "xNx0195Bn-Ox"
      }
    },
    {
      "cell_type": "code",
      "source": [
        "print('Hello World')\n",
        "print('Hello World')\n",
        "print('Hello World')\n",
        "print('Hello World')\n",
        "print('Hello World')"
      ],
      "metadata": {
        "colab": {
          "base_uri": "https://localhost:8080/"
        },
        "id": "JxCKlUIrndpJ",
        "outputId": "5175ed8e-a460-4c3d-8f4a-baddf259c1ac"
      },
      "execution_count": null,
      "outputs": [
        {
          "output_type": "stream",
          "name": "stdout",
          "text": [
            "Hello World\n",
            "Hello World\n",
            "Hello World\n",
            "Hello World\n",
            "Hello World\n"
          ]
        }
      ]
    },
    {
      "cell_type": "code",
      "source": [
        "for i in range(0,5):\n",
        "  print(i , 'Hello World')"
      ],
      "metadata": {
        "colab": {
          "base_uri": "https://localhost:8080/"
        },
        "id": "fO4SmSg2oPcG",
        "outputId": "ee5f931f-0a80-419a-ea12-c6be8d2b00b7"
      },
      "execution_count": null,
      "outputs": [
        {
          "output_type": "stream",
          "name": "stdout",
          "text": [
            "0 Hello World\n",
            "1 Hello World\n",
            "2 Hello World\n",
            "3 Hello World\n",
            "4 Hello World\n"
          ]
        }
      ]
    },
    {
      "cell_type": "code",
      "source": [
        "print('2 * 1 = ' , 2 * 1 )\n",
        "print('2 * 2 = ' , 2 * 2 )\n",
        "print('2 * 3 = ' , 2 * 3 )\n",
        "print('2 * 4 = ' , 2 * 4 )\n",
        "print('2 * 5 = ' , 2 * 5 )"
      ],
      "metadata": {
        "colab": {
          "base_uri": "https://localhost:8080/"
        },
        "id": "oczzquD0oZU8",
        "outputId": "4b31ba1d-b3d3-4bcf-a506-a7d55be3d430"
      },
      "execution_count": null,
      "outputs": [
        {
          "output_type": "stream",
          "name": "stdout",
          "text": [
            "2 * 1 =  2\n",
            "2 * 2 =  4\n",
            "2 * 3 =  6\n",
            "2 * 4 =  8\n",
            "2 * 5 =  10\n"
          ]
        }
      ]
    },
    {
      "cell_type": "code",
      "source": [
        "for i in range(1,6):\n",
        "  print('2 *', i , '=', i * 2)"
      ],
      "metadata": {
        "colab": {
          "base_uri": "https://localhost:8080/"
        },
        "id": "bjZPbIGBosaz",
        "outputId": "d4f58a41-379b-4cab-942a-0ca4efc10230"
      },
      "execution_count": null,
      "outputs": [
        {
          "output_type": "stream",
          "name": "stdout",
          "text": [
            "2 * 1 = 2\n",
            "2 * 2 = 4\n",
            "2 * 3 = 6\n",
            "2 * 4 = 8\n",
            "2 * 5 = 10\n"
          ]
        }
      ]
    },
    {
      "cell_type": "code",
      "source": [
        "for i in range(1,6):\n",
        "  print(f'2 * {i} =' , 2 * i)"
      ],
      "metadata": {
        "colab": {
          "base_uri": "https://localhost:8080/"
        },
        "id": "Z5kqFVqQpurM",
        "outputId": "37c0afe9-626b-4e25-8b56-fec0732e1bcf"
      },
      "execution_count": null,
      "outputs": [
        {
          "output_type": "stream",
          "name": "stdout",
          "text": [
            "2 * 1 = 2\n",
            "2 * 2 = 4\n",
            "2 * 3 = 6\n",
            "2 * 4 = 8\n",
            "2 * 5 = 10\n"
          ]
        }
      ]
    },
    {
      "cell_type": "code",
      "source": [
        "#break statement\n",
        "for i in range(1,11):\n",
        "  print(f'2 * {i} =' , 2 * i)\n",
        "  if i == 7:\n",
        "    break"
      ],
      "metadata": {
        "colab": {
          "base_uri": "https://localhost:8080/"
        },
        "id": "YZKQkX8VqEHf",
        "outputId": "6cc1d78c-1a64-4efe-a033-be00d4d274f4"
      },
      "execution_count": null,
      "outputs": [
        {
          "output_type": "stream",
          "name": "stdout",
          "text": [
            "2 * 1 = 2\n",
            "2 * 2 = 4\n",
            "2 * 3 = 6\n",
            "2 * 4 = 8\n",
            "2 * 5 = 10\n",
            "2 * 6 = 12\n",
            "2 * 7 = 14\n"
          ]
        }
      ]
    },
    {
      "cell_type": "code",
      "source": [
        "#Continue Statement\n",
        "for i in range(1,11):\n",
        "  if i == 7:\n",
        "    continue\n",
        "  print(f'2 * {i} =' , 2 * i)"
      ],
      "metadata": {
        "colab": {
          "base_uri": "https://localhost:8080/"
        },
        "id": "ZqJN04yGqaD9",
        "outputId": "bcb1aa55-d35a-4f83-a82e-9188a3cf39b1"
      },
      "execution_count": null,
      "outputs": [
        {
          "output_type": "stream",
          "name": "stdout",
          "text": [
            "2 * 1 = 2\n",
            "2 * 2 = 4\n",
            "2 * 3 = 6\n",
            "2 * 4 = 8\n",
            "2 * 5 = 10\n",
            "2 * 6 = 12\n",
            "2 * 8 = 16\n",
            "2 * 9 = 18\n",
            "2 * 10 = 20\n"
          ]
        }
      ]
    },
    {
      "cell_type": "markdown",
      "source": [
        "* While loop"
      ],
      "metadata": {
        "id": "936qXzaPrQ8t"
      }
    },
    {
      "cell_type": "code",
      "source": [
        "if True:\n",
        "  print('Hello World')"
      ],
      "metadata": {
        "colab": {
          "base_uri": "https://localhost:8080/"
        },
        "id": "_VKBhNuPqrqt",
        "outputId": "d924006f-7248-410c-f4c0-ad1b4ba710d2"
      },
      "execution_count": null,
      "outputs": [
        {
          "output_type": "stream",
          "name": "stdout",
          "text": [
            "Hello World\n"
          ]
        }
      ]
    },
    {
      "cell_type": "code",
      "source": [
        "i = 0\n",
        "while i < 7:\n",
        "  print(i , 'Hello World')\n",
        "  i += 1"
      ],
      "metadata": {
        "colab": {
          "base_uri": "https://localhost:8080/"
        },
        "id": "eLTKESYsrXbT",
        "outputId": "1caa3987-b501-49d1-a724-bf806a5c7986"
      },
      "execution_count": null,
      "outputs": [
        {
          "output_type": "stream",
          "name": "stdout",
          "text": [
            "0 Hello World\n",
            "1 Hello World\n",
            "2 Hello World\n",
            "3 Hello World\n",
            "4 Hello World\n",
            "5 Hello World\n",
            "6 Hello World\n"
          ]
        }
      ]
    },
    {
      "cell_type": "code",
      "source": [
        "i = 0\n",
        "while True:\n",
        "  print(i,'Hello World')\n",
        "  i += 1\n",
        "  if i == 6:\n",
        "    break"
      ],
      "metadata": {
        "colab": {
          "base_uri": "https://localhost:8080/"
        },
        "id": "IyoGkiworePk",
        "outputId": "c09b2ba5-6243-48b9-b735-747093e67a67"
      },
      "execution_count": null,
      "outputs": [
        {
          "output_type": "stream",
          "name": "stdout",
          "text": [
            "0 Hello World\n",
            "1 Hello World\n",
            "2 Hello World\n",
            "3 Hello World\n",
            "4 Hello World\n",
            "5 Hello World\n"
          ]
        }
      ]
    },
    {
      "cell_type": "code",
      "source": [
        "#Create a login activity\n",
        "#Which can ask user name or password again if entered value is wrong\n",
        "\n",
        "userid = input('Enter user Id')\n",
        "while userid != 'abcde':\n",
        "  print('Incoreect User Id, Try again')\n",
        "  userid = input('Enter user Id')\n",
        "else:\n",
        "  userpass = input('Enter user Password')\n",
        "  while userpass != '12345':\n",
        "    print('Incorrect Password, Try again')\n",
        "    userpass = input('Enter user Password')\n",
        "  else:\n",
        "    print('login Successfull')"
      ],
      "metadata": {
        "colab": {
          "base_uri": "https://localhost:8080/"
        },
        "id": "3M6ltePBr-9q",
        "outputId": "46d012ce-3d71-4e25-e654-79c397cd1295"
      },
      "execution_count": null,
      "outputs": [
        {
          "output_type": "stream",
          "name": "stdout",
          "text": [
            "Enter user Idaqwrt\n",
            "Incoreect User Id, Try again\n",
            "Enter user Iddfghjk\n",
            "Incoreect User Id, Try again\n",
            "Enter user Idabcde\n",
            "Enter user Passwordsdfgh\n",
            "Incorrect Password, Try again\n",
            "Enter user Passworddfghjk\n",
            "Incorrect Password, Try again\n",
            "Enter user Password12345\n",
            "login Successfull\n"
          ]
        }
      ]
    },
    {
      "cell_type": "code",
      "source": [
        "cities = ['Delhi' , 'Mumbai' , 'Jaipur' , 'Hyderabaad' , 'Mysore']\n",
        "\n",
        "print(cities[0] , len(cities[0]))\n",
        "print(cities[1] , len(cities[1]))\n",
        "print(cities[2] , len(cities[2]))\n",
        "print(cities[3] , len(cities[3]))\n",
        "print(cities[4] , len(cities[4]))"
      ],
      "metadata": {
        "colab": {
          "base_uri": "https://localhost:8080/"
        },
        "id": "M79zWykut1qK",
        "outputId": "45d2502f-57a4-4379-ca78-2ad08c1bce2b"
      },
      "execution_count": null,
      "outputs": [
        {
          "output_type": "stream",
          "name": "stdout",
          "text": [
            "Delhi 5\n",
            "Mumbai 6\n",
            "Jaipur 6\n",
            "Hyderabaad 10\n",
            "Mysore 6\n"
          ]
        }
      ]
    },
    {
      "cell_type": "code",
      "source": [
        "for i in range(0,len(cities)):\n",
        "  print(cities[i] , len(cities[i]))"
      ],
      "metadata": {
        "colab": {
          "base_uri": "https://localhost:8080/"
        },
        "id": "_GpTG2cPv1lc",
        "outputId": "da4a01c6-f9b1-48d1-e359-c2807109bb67"
      },
      "execution_count": null,
      "outputs": [
        {
          "output_type": "stream",
          "name": "stdout",
          "text": [
            "Delhi 5\n",
            "Mumbai 6\n",
            "Jaipur 6\n",
            "Hyderabaad 10\n",
            "Mysore 6\n"
          ]
        }
      ]
    },
    {
      "cell_type": "code",
      "source": [
        "cities = ['Delhi' , 'Mumbai' , 'Jaipur' , 'Hyderabaad' , 'Mysore']\n",
        "\n",
        "for val in cities:\n",
        "  print(val , len(val))"
      ],
      "metadata": {
        "colab": {
          "base_uri": "https://localhost:8080/"
        },
        "id": "2LfFUpo4wayL",
        "outputId": "a693bf8c-3c1b-4a92-d146-8ad8a3b13dcd"
      },
      "execution_count": null,
      "outputs": [
        {
          "output_type": "stream",
          "name": "stdout",
          "text": [
            "Delhi 5\n",
            "Mumbai 6\n",
            "Jaipur 6\n",
            "Hyderabaad 10\n",
            "Mysore 6\n"
          ]
        }
      ]
    },
    {
      "cell_type": "markdown",
      "source": [
        "**Functions**"
      ],
      "metadata": {
        "id": "VbGLeaw6xG8q"
      }
    },
    {
      "cell_type": "code",
      "source": [
        "#f(x) = x + 5\n",
        "#f(4) = 9\n",
        "#f(3) = 8\n",
        "#f(5) = 10"
      ],
      "metadata": {
        "id": "1ec2UFaCwp5U"
      },
      "execution_count": null,
      "outputs": []
    },
    {
      "cell_type": "code",
      "source": [
        "def myfunc():\n",
        "  print('Hello World!!')"
      ],
      "metadata": {
        "id": "hBA2jaiRxUSJ"
      },
      "execution_count": null,
      "outputs": []
    },
    {
      "cell_type": "code",
      "source": [
        "myfunc()\n",
        "myfunc()\n",
        "myfunc()"
      ],
      "metadata": {
        "colab": {
          "base_uri": "https://localhost:8080/"
        },
        "id": "Xujfb3kExbDD",
        "outputId": "14aa99a2-267e-4377-bfb8-017b9b35c61a"
      },
      "execution_count": null,
      "outputs": [
        {
          "output_type": "stream",
          "name": "stdout",
          "text": [
            "Hello World!!\n",
            "Hello World!!\n",
            "Hello World!!\n"
          ]
        }
      ]
    },
    {
      "cell_type": "code",
      "source": [
        "def add_five(x):        #function with a parameter\n",
        "  print(x + 5)"
      ],
      "metadata": {
        "id": "wNbBO5VmxeIG"
      },
      "execution_count": null,
      "outputs": []
    },
    {
      "cell_type": "code",
      "source": [
        "add_five(6)\n",
        "add_five(3)\n",
        "add_five(7)"
      ],
      "metadata": {
        "colab": {
          "base_uri": "https://localhost:8080/"
        },
        "id": "EyobfkEJxnKi",
        "outputId": "5ccd6447-ee9e-4f10-dd6b-82102605f19f"
      },
      "execution_count": null,
      "outputs": [
        {
          "output_type": "stream",
          "name": "stdout",
          "text": [
            "11\n",
            "8\n",
            "12\n"
          ]
        }
      ]
    },
    {
      "cell_type": "code",
      "source": [
        "def dosum(x,y):\n",
        "  z = x + y\n",
        "  print(z)"
      ],
      "metadata": {
        "id": "IuLIS7lGxs8f"
      },
      "execution_count": null,
      "outputs": []
    },
    {
      "cell_type": "code",
      "source": [
        "dosum(6,3)\n",
        "dosum(10,5)\n",
        "dosum(20,2)"
      ],
      "metadata": {
        "colab": {
          "base_uri": "https://localhost:8080/"
        },
        "id": "Fg0qdV3YyH3S",
        "outputId": "d138d34a-c10d-4249-dc82-dc6947686aa0"
      },
      "execution_count": null,
      "outputs": [
        {
          "output_type": "stream",
          "name": "stdout",
          "text": [
            "9\n",
            "15\n",
            "22\n"
          ]
        }
      ]
    },
    {
      "cell_type": "code",
      "source": [
        "print(15 * 2)"
      ],
      "metadata": {
        "colab": {
          "base_uri": "https://localhost:8080/"
        },
        "id": "PSnkNYtryMty",
        "outputId": "460d5cf0-2642-4eae-c370-e6c45380985d"
      },
      "execution_count": null,
      "outputs": [
        {
          "output_type": "stream",
          "name": "stdout",
          "text": [
            "30\n"
          ]
        }
      ]
    },
    {
      "cell_type": "code",
      "source": [
        "def dosum(x,y):\n",
        "  z = x + y\n",
        "  return z"
      ],
      "metadata": {
        "id": "-J1ejDvUypqx"
      },
      "execution_count": null,
      "outputs": []
    },
    {
      "cell_type": "code",
      "source": [
        "print(dosum(10,5) * 2)\n",
        "print(dosum(4,2) * 2)\n",
        "print(dosum(3,7) * 2)"
      ],
      "metadata": {
        "colab": {
          "base_uri": "https://localhost:8080/"
        },
        "id": "zVkFW83ayWn-",
        "outputId": "12dd7e76-03bb-41eb-96f4-4700471e3f4a"
      },
      "execution_count": null,
      "outputs": [
        {
          "output_type": "stream",
          "name": "stdout",
          "text": [
            "30\n",
            "12\n",
            "20\n"
          ]
        }
      ]
    },
    {
      "cell_type": "markdown",
      "source": [
        "* lambda function"
      ],
      "metadata": {
        "id": "Bg-fjrBlzAkv"
      }
    },
    {
      "cell_type": "code",
      "source": [
        "#lambda function to add two numbers\n",
        "addnums = lambda x,y : x + y\n",
        "\n",
        "print(addnums(5,3))\n",
        "print(addnums(2,1))\n",
        "print(addnums(9,2))"
      ],
      "metadata": {
        "colab": {
          "base_uri": "https://localhost:8080/"
        },
        "id": "TpwLIc8VyYlj",
        "outputId": "bf83355d-6f8e-4e8a-e6c4-dfa1f82d083a"
      },
      "execution_count": null,
      "outputs": [
        {
          "output_type": "stream",
          "name": "stdout",
          "text": [
            "8\n",
            "3\n",
            "11\n"
          ]
        }
      ]
    },
    {
      "cell_type": "code",
      "source": [
        "#lambda function to get product of two nums\n",
        "\n",
        "prod = lambda x,y : x*y\n",
        "\n",
        "print(prod(4,3))\n",
        "print(prod(5,2))"
      ],
      "metadata": {
        "colab": {
          "base_uri": "https://localhost:8080/"
        },
        "id": "UeKUUs8Q0rCs",
        "outputId": "10f2a048-65e0-423a-bbcb-da065d0f6f3d"
      },
      "execution_count": null,
      "outputs": [
        {
          "output_type": "stream",
          "name": "stdout",
          "text": [
            "12\n",
            "10\n"
          ]
        }
      ]
    },
    {
      "cell_type": "code",
      "source": [
        "login = lambda u,p : 'Successfull login' if u == 'abcde' and p == '12345' else 'Unsuccessfull login'"
      ],
      "metadata": {
        "id": "nzEKFr5LzSqu"
      },
      "execution_count": null,
      "outputs": []
    },
    {
      "cell_type": "code",
      "source": [
        "userid = input('Enter user Id')\n",
        "userpass = input('Enter user Password')\n",
        "\n",
        "login(userid,userpass)"
      ],
      "metadata": {
        "colab": {
          "base_uri": "https://localhost:8080/",
          "height": 73
        },
        "id": "XJUu1i5yzxKc",
        "outputId": "b862b24e-4e43-43d8-fc79-5d51c152bba9"
      },
      "execution_count": null,
      "outputs": [
        {
          "name": "stdout",
          "output_type": "stream",
          "text": [
            "Enter user Idasdfgh\n",
            "Enter user Passworddfghj\n"
          ]
        },
        {
          "output_type": "execute_result",
          "data": {
            "text/plain": [
              "'Unsuccessfull login'"
            ],
            "application/vnd.google.colaboratory.intrinsic+json": {
              "type": "string"
            }
          },
          "metadata": {},
          "execution_count": 97
        }
      ]
    },
    {
      "cell_type": "code",
      "source": [
        "#function to check even\n",
        "\n",
        "def check_even_odd(x):\n",
        "  if x % 2 == 0:\n",
        "    return 'Even'\n",
        "  else:\n",
        "    return 'Odd'"
      ],
      "metadata": {
        "id": "FnnkJSp01BlG"
      },
      "execution_count": null,
      "outputs": []
    },
    {
      "cell_type": "code",
      "source": [
        "print(check_even_odd(8))\n",
        "print(check_even_odd(9))"
      ],
      "metadata": {
        "colab": {
          "base_uri": "https://localhost:8080/"
        },
        "id": "e-BrguLy1PGa",
        "outputId": "a9421bfa-121e-4984-9fb2-2c0538cb76ce"
      },
      "execution_count": null,
      "outputs": [
        {
          "output_type": "stream",
          "name": "stdout",
          "text": [
            "Even\n",
            "Odd\n"
          ]
        }
      ]
    },
    {
      "cell_type": "code",
      "source": [
        "#create a lambda function to check a user enter number is even or odd\n",
        "\n",
        "check_eo = lambda x : 'Even' if x % 2 == 0 else 'Odd'"
      ],
      "metadata": {
        "id": "WKGJ_sMsz2Ct"
      },
      "execution_count": null,
      "outputs": []
    },
    {
      "cell_type": "code",
      "source": [
        "print(check_eo(12))\n",
        "print(check_eo(17))\n",
        "print(check_eo(18))"
      ],
      "metadata": {
        "colab": {
          "base_uri": "https://localhost:8080/"
        },
        "id": "OKnag99U1imk",
        "outputId": "59abb8a5-de5e-4a55-ae64-c79d6819380b"
      },
      "execution_count": null,
      "outputs": [
        {
          "output_type": "stream",
          "name": "stdout",
          "text": [
            "Even\n",
            "Odd\n",
            "Even\n"
          ]
        }
      ]
    },
    {
      "cell_type": "code",
      "source": [
        "def table(x):\n",
        "  table_x = []\n",
        "  for i in range(1,11):\n",
        "    table_x.append(i * x)\n",
        "  return table_x"
      ],
      "metadata": {
        "id": "hG6IGbLl1ltR"
      },
      "execution_count": null,
      "outputs": []
    },
    {
      "cell_type": "code",
      "source": [
        "print(table(7))"
      ],
      "metadata": {
        "colab": {
          "base_uri": "https://localhost:8080/"
        },
        "id": "4kGwFahP2lZ4",
        "outputId": "7a2fe66a-9e92-4dd5-9ebd-d77e9f299214"
      },
      "execution_count": null,
      "outputs": [
        {
          "output_type": "stream",
          "name": "stdout",
          "text": [
            "[7, 14, 21, 28, 35, 42, 49, 56, 63, 70]\n"
          ]
        }
      ]
    },
    {
      "cell_type": "code",
      "source": [
        "mytable = lambda x : [i * x for i in range(1,11)]\n",
        "\n",
        "mytable(9)"
      ],
      "metadata": {
        "colab": {
          "base_uri": "https://localhost:8080/"
        },
        "id": "5-IbWy3T2nVy",
        "outputId": "5ba84b54-512d-4389-c326-df9ca5da249d"
      },
      "execution_count": null,
      "outputs": [
        {
          "output_type": "execute_result",
          "data": {
            "text/plain": [
              "[9, 18, 27, 36, 45, 54, 63, 72, 81, 90]"
            ]
          },
          "metadata": {},
          "execution_count": 111
        }
      ]
    },
    {
      "cell_type": "code",
      "source": [
        "#create a lamda function to check frequency\n",
        "#if frequency < 10 => 'low freq' if freq < 20 => 'Medium freq' else => 'High freq'\n",
        "\n",
        "check_freq = lambda freq : 'low freq' if freq < 10 else 'Medium Freq' if freq < 20 else 'High Freq'\n",
        "\n",
        "print(check_freq(23))\n",
        "print(check_freq(15))\n",
        "print(check_freq(7))"
      ],
      "metadata": {
        "colab": {
          "base_uri": "https://localhost:8080/"
        },
        "id": "PxjWjwSX3OpT",
        "outputId": "eca91697-5ef8-427e-943a-d05c45905302"
      },
      "execution_count": null,
      "outputs": [
        {
          "output_type": "stream",
          "name": "stdout",
          "text": [
            "High Freq\n",
            "Medium Freq\n",
            "low freq\n"
          ]
        }
      ]
    },
    {
      "cell_type": "code",
      "source": [],
      "metadata": {
        "id": "wCVldXwz4wYL"
      },
      "execution_count": null,
      "outputs": []
    }
  ]
}