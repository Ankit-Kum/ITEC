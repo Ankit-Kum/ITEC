{
  "nbformat": 4,
  "nbformat_minor": 0,
  "metadata": {
    "colab": {
      "provenance": []
    },
    "kernelspec": {
      "name": "python3",
      "display_name": "Python 3"
    },
    "language_info": {
      "name": "python"
    }
  },
  "cells": [
    {
      "cell_type": "code",
      "execution_count": 1,
      "metadata": {
        "id": "9Ytm0nqBYQQL"
      },
      "outputs": [],
      "source": [
        "### Comprehension"
      ]
    },
    {
      "cell_type": "code",
      "source": [
        "a = [1,2,3,4,5]\n",
        "sq = []\n",
        "for i in a:\n",
        "  sq.append(i**2)\n",
        "print(sq)"
      ],
      "metadata": {
        "colab": {
          "base_uri": "https://localhost:8080/"
        },
        "id": "c3vkHgPCYeT5",
        "outputId": "5c64222e-1ecc-49f1-95da-82c82fd527af"
      },
      "execution_count": 2,
      "outputs": [
        {
          "output_type": "stream",
          "name": "stdout",
          "text": [
            "[1, 4, 9, 16, 25]\n"
          ]
        }
      ]
    },
    {
      "cell_type": "code",
      "source": [
        "a = [1,2,3,4,5]\n",
        "sq = [i**2 for i in a]\n",
        "print(sq)"
      ],
      "metadata": {
        "colab": {
          "base_uri": "https://localhost:8080/"
        },
        "id": "KagNSTVbY--4",
        "outputId": "b7aceffb-7ebb-41a8-c359-d6054db5055c"
      },
      "execution_count": 3,
      "outputs": [
        {
          "output_type": "stream",
          "name": "stdout",
          "text": [
            "[1, 4, 9, 16, 25]\n"
          ]
        }
      ]
    },
    {
      "cell_type": "code",
      "source": [
        "a = [1,2,3,4,5]\n",
        "sqsq = [j**2 for j in (i**2 for i in a)]\n",
        "print(sqsq)"
      ],
      "metadata": {
        "colab": {
          "base_uri": "https://localhost:8080/"
        },
        "id": "XmdFYNeYZODc",
        "outputId": "e63cf89d-87ce-4827-8631-b4e21e87c84d"
      },
      "execution_count": 4,
      "outputs": [
        {
          "output_type": "stream",
          "name": "stdout",
          "text": [
            "[1, 16, 81, 256, 625]\n"
          ]
        }
      ]
    },
    {
      "cell_type": "code",
      "source": [
        "## list comprehension\n",
        "a = [1,2,3,4,5]\n",
        "sq = [i**2 for i in a]\n",
        "sqsq = [j**2 for j in sq]\n",
        "print(sqsq)"
      ],
      "metadata": {
        "colab": {
          "base_uri": "https://localhost:8080/"
        },
        "id": "eBxNtFSsZcac",
        "outputId": "3c09e221-c92f-428e-f12d-e16c07cb2d2a"
      },
      "execution_count": 5,
      "outputs": [
        {
          "output_type": "stream",
          "name": "stdout",
          "text": [
            "[1, 16, 81, 256, 625]\n"
          ]
        }
      ]
    },
    {
      "cell_type": "code",
      "source": [
        "## set comprehension\n",
        "a = [1,2,3,4,5]\n",
        "sqsq = {j**2 for j in (i**2 for i in a)}\n",
        "print(sqsq)"
      ],
      "metadata": {
        "colab": {
          "base_uri": "https://localhost:8080/"
        },
        "id": "Qo1f19ZOZxJB",
        "outputId": "e61fe2d2-975f-4d59-af1d-3ebe8efd7d1a"
      },
      "execution_count": 6,
      "outputs": [
        {
          "output_type": "stream",
          "name": "stdout",
          "text": [
            "{256, 1, 16, 625, 81}\n"
          ]
        }
      ]
    },
    {
      "cell_type": "code",
      "source": [
        "### Lambda Function"
      ],
      "metadata": {
        "id": "8zJ2MKQnZ8bg"
      },
      "execution_count": 7,
      "outputs": []
    },
    {
      "cell_type": "code",
      "source": [
        "def square(a):\n",
        "  return a**2"
      ],
      "metadata": {
        "id": "-1BhWSm8aX7H"
      },
      "execution_count": 8,
      "outputs": []
    },
    {
      "cell_type": "code",
      "source": [
        "square(4)"
      ],
      "metadata": {
        "colab": {
          "base_uri": "https://localhost:8080/"
        },
        "id": "evG-pXhEaoYH",
        "outputId": "678f4fcb-9f6b-412e-887d-99c4754ef5c7"
      },
      "execution_count": 9,
      "outputs": [
        {
          "output_type": "execute_result",
          "data": {
            "text/plain": [
              "16"
            ]
          },
          "metadata": {},
          "execution_count": 9
        }
      ]
    },
    {
      "cell_type": "code",
      "source": [
        "f = lambda a : a**2\n",
        "print(f(5))"
      ],
      "metadata": {
        "colab": {
          "base_uri": "https://localhost:8080/"
        },
        "id": "K-RdLrWyapSG",
        "outputId": "ac7e9c3e-5ee0-49b0-9bf6-5ffa8a37a386"
      },
      "execution_count": 10,
      "outputs": [
        {
          "output_type": "stream",
          "name": "stdout",
          "text": [
            "25\n"
          ]
        }
      ]
    },
    {
      "cell_type": "code",
      "source": [
        "f1 = lambda a,b : a+b"
      ],
      "metadata": {
        "id": "vIbQ-mWLaynd"
      },
      "execution_count": 12,
      "outputs": []
    },
    {
      "cell_type": "code",
      "source": [
        "print(f1(2,3))"
      ],
      "metadata": {
        "colab": {
          "base_uri": "https://localhost:8080/"
        },
        "id": "bovBrU9HbAn0",
        "outputId": "fe67c485-2bb6-4dd0-b25e-f58216e36b1f"
      },
      "execution_count": 13,
      "outputs": [
        {
          "output_type": "stream",
          "name": "stdout",
          "text": [
            "5\n"
          ]
        }
      ]
    },
    {
      "cell_type": "code",
      "source": [],
      "metadata": {
        "id": "XyDm84uGbDF1"
      },
      "execution_count": null,
      "outputs": []
    }
  ]
}