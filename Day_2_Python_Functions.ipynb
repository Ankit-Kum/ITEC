{
  "nbformat": 4,
  "nbformat_minor": 0,
  "metadata": {
    "colab": {
      "provenance": []
    },
    "kernelspec": {
      "name": "python3",
      "display_name": "Python 3"
    },
    "language_info": {
      "name": "python"
    }
  },
  "cells": [
    {
      "cell_type": "markdown",
      "source": [
        "Types of Functions\n",
        "*   Function without parameters/argument\n",
        "*   Function with parameters\n",
        "*   Function with default parameters\n",
        "*   Function with return value\n",
        "\n"
      ],
      "metadata": {
        "id": "mhJbK-k_JEMv"
      }
    },
    {
      "cell_type": "code",
      "source": [
        "### Function without parameters"
      ],
      "metadata": {
        "id": "jksSKnQ3Jfwi"
      },
      "execution_count": 1,
      "outputs": []
    },
    {
      "cell_type": "code",
      "source": [
        "def myFunction():\n",
        "  print(\"This is my function\")"
      ],
      "metadata": {
        "id": "f-tratgSJh6T"
      },
      "execution_count": 4,
      "outputs": []
    },
    {
      "cell_type": "code",
      "source": [
        "myFunction()\n",
        "myFunction()\n",
        "myFunction()"
      ],
      "metadata": {
        "colab": {
          "base_uri": "https://localhost:8080/"
        },
        "id": "lfqKDTwFJzXV",
        "outputId": "2635c037-9a5d-47ee-90c7-d3d86606db68"
      },
      "execution_count": 6,
      "outputs": [
        {
          "output_type": "stream",
          "name": "stdout",
          "text": [
            "This is my function\n",
            "This is my function\n",
            "This is my function\n"
          ]
        }
      ]
    },
    {
      "cell_type": "code",
      "source": [
        "## Function with parameters"
      ],
      "metadata": {
        "id": "GTLykSqIKczY"
      },
      "execution_count": 7,
      "outputs": []
    },
    {
      "cell_type": "code",
      "source": [
        "def add_two_num(a,b):\n",
        "  sum = a+b\n",
        "  print(\"The sum is {}\".format(sum))"
      ],
      "metadata": {
        "id": "i6QCQRSKKoXs"
      },
      "execution_count": 8,
      "outputs": []
    },
    {
      "cell_type": "code",
      "source": [
        "add_two_num(20,30)"
      ],
      "metadata": {
        "colab": {
          "base_uri": "https://localhost:8080/"
        },
        "id": "qTbrcfERKzae",
        "outputId": "760e90b1-f38e-4a15-e7d6-00ceb78b1d20"
      },
      "execution_count": 10,
      "outputs": [
        {
          "output_type": "stream",
          "name": "stdout",
          "text": [
            "The sum is 50\n"
          ]
        }
      ]
    },
    {
      "cell_type": "code",
      "source": [
        "add_two_num(20.5,30)"
      ],
      "metadata": {
        "colab": {
          "base_uri": "https://localhost:8080/"
        },
        "id": "NgH5oSIBK1yU",
        "outputId": "2ed86180-fbd7-4f38-e693-5970becba33a"
      },
      "execution_count": 11,
      "outputs": [
        {
          "output_type": "stream",
          "name": "stdout",
          "text": [
            "The sum is 50.5\n"
          ]
        }
      ]
    },
    {
      "cell_type": "code",
      "source": [
        "def div_two_num(a,b):\n",
        "  result = a/b\n",
        "  print(\"The result is {}\".format(result))"
      ],
      "metadata": {
        "id": "YSLYscetLTMo"
      },
      "execution_count": 12,
      "outputs": []
    },
    {
      "cell_type": "code",
      "source": [
        "div_two_num(10,2)"
      ],
      "metadata": {
        "colab": {
          "base_uri": "https://localhost:8080/"
        },
        "id": "3Tn-BMqXLntY",
        "outputId": "9de12612-492d-436f-9ea3-72b4911c9295"
      },
      "execution_count": 13,
      "outputs": [
        {
          "output_type": "stream",
          "name": "stdout",
          "text": [
            "The result is 5.0\n"
          ]
        }
      ]
    },
    {
      "cell_type": "code",
      "source": [
        "div_two_num(2,10)"
      ],
      "metadata": {
        "colab": {
          "base_uri": "https://localhost:8080/"
        },
        "id": "x21pHqWnLqZI",
        "outputId": "b9333dc1-b110-4e49-d832-2b3a7d59b1fc"
      },
      "execution_count": 14,
      "outputs": [
        {
          "output_type": "stream",
          "name": "stdout",
          "text": [
            "The result is 0.2\n"
          ]
        }
      ]
    },
    {
      "cell_type": "code",
      "source": [
        "div_two_num(b=2,a=10)"
      ],
      "metadata": {
        "colab": {
          "base_uri": "https://localhost:8080/"
        },
        "id": "HBsVK4lALrzi",
        "outputId": "751f2a19-f90b-464d-d4b2-54fc8f318881"
      },
      "execution_count": 15,
      "outputs": [
        {
          "output_type": "stream",
          "name": "stdout",
          "text": [
            "The result is 5.0\n"
          ]
        }
      ]
    },
    {
      "cell_type": "code",
      "source": [
        "## Function with default parameters"
      ],
      "metadata": {
        "id": "Tu27CPd2L0BC"
      },
      "execution_count": 16,
      "outputs": []
    },
    {
      "cell_type": "code",
      "source": [
        "def calculator(a,b,op=\"+\"):\n",
        "  if op == \"+\":\n",
        "    print(a+b)\n",
        "  elif op == \"-\":\n",
        "    print(a-b)\n",
        "  elif op == \"/\":\n",
        "    print(a/b)\n",
        "  elif op == \"*\":\n",
        "    print(a*b)\n",
        "  else:\n",
        "    print(\"Invalid Operation\")"
      ],
      "metadata": {
        "id": "z_jzfGhoMCkY"
      },
      "execution_count": 19,
      "outputs": []
    },
    {
      "cell_type": "code",
      "source": [
        "calculator(10,20,\"*\")"
      ],
      "metadata": {
        "colab": {
          "base_uri": "https://localhost:8080/"
        },
        "id": "VT1edcK9MZa9",
        "outputId": "e96fe8ce-81c0-4eb3-c1bb-962cd1b79fd7"
      },
      "execution_count": 20,
      "outputs": [
        {
          "output_type": "stream",
          "name": "stdout",
          "text": [
            "200\n"
          ]
        }
      ]
    },
    {
      "cell_type": "code",
      "source": [
        "calculator(10,20)"
      ],
      "metadata": {
        "colab": {
          "base_uri": "https://localhost:8080/"
        },
        "id": "f59PF4vWMmRz",
        "outputId": "c9244a65-cf03-4015-c5dc-ac5c48000c19"
      },
      "execution_count": 21,
      "outputs": [
        {
          "output_type": "stream",
          "name": "stdout",
          "text": [
            "30\n"
          ]
        }
      ]
    },
    {
      "cell_type": "code",
      "source": [
        "def calculator(a=10,b=50,op=\"+\"):\n",
        "  if op == \"+\":\n",
        "    print(a+b)\n",
        "  elif op == \"-\":\n",
        "    print(a-b)\n",
        "  elif op == \"/\":\n",
        "    print(a/b)\n",
        "  elif op == \"*\":\n",
        "    print(a*b)\n",
        "  else:\n",
        "    print(\"Invalid Operation\")"
      ],
      "metadata": {
        "id": "AW4mEV_DMhqd"
      },
      "execution_count": 22,
      "outputs": []
    },
    {
      "cell_type": "code",
      "source": [
        "calculator()"
      ],
      "metadata": {
        "colab": {
          "base_uri": "https://localhost:8080/"
        },
        "id": "KunSsJbrNApm",
        "outputId": "8d9b4d93-d1cc-417a-c85c-0a538b894e3c"
      },
      "execution_count": 23,
      "outputs": [
        {
          "output_type": "stream",
          "name": "stdout",
          "text": [
            "60\n"
          ]
        }
      ]
    },
    {
      "cell_type": "code",
      "source": [
        "calculator(op=\"i\")"
      ],
      "metadata": {
        "colab": {
          "base_uri": "https://localhost:8080/"
        },
        "id": "eapkWzwSNCHZ",
        "outputId": "55be0ccf-19a3-4d6a-aa53-1885e108c269"
      },
      "execution_count": 24,
      "outputs": [
        {
          "output_type": "stream",
          "name": "stdout",
          "text": [
            "Invalid Operation\n"
          ]
        }
      ]
    },
    {
      "cell_type": "code",
      "source": [
        "### Function with return value"
      ],
      "metadata": {
        "id": "7UJIY_g4NGN8"
      },
      "execution_count": 25,
      "outputs": []
    },
    {
      "cell_type": "code",
      "source": [
        "def calculator(a,b,op=\"+\"):\n",
        "  if op == \"+\":\n",
        "    print(a+b)\n",
        "  elif op == \"-\":\n",
        "    print(a-b)\n",
        "  elif op == \"/\":\n",
        "    print(a/b)\n",
        "  elif op == \"*\":\n",
        "    print(a*b)\n",
        "  else:\n",
        "    print(\"Invalid Operation\")"
      ],
      "metadata": {
        "id": "j1OF5bUuNoJ5"
      },
      "execution_count": 26,
      "outputs": []
    },
    {
      "cell_type": "code",
      "source": [
        "result = calculator(10,20)"
      ],
      "metadata": {
        "colab": {
          "base_uri": "https://localhost:8080/"
        },
        "id": "9nZwWl9LNvot",
        "outputId": "ed205fc4-4475-4c78-b0a9-e7967889c7ac"
      },
      "execution_count": 27,
      "outputs": [
        {
          "output_type": "stream",
          "name": "stdout",
          "text": [
            "30\n"
          ]
        }
      ]
    },
    {
      "cell_type": "code",
      "source": [
        "print(result)"
      ],
      "metadata": {
        "colab": {
          "base_uri": "https://localhost:8080/"
        },
        "id": "h9e8jXtHN0yI",
        "outputId": "426201ac-e01f-44a9-9eca-ad101bc146fc"
      },
      "execution_count": 28,
      "outputs": [
        {
          "output_type": "stream",
          "name": "stdout",
          "text": [
            "None\n"
          ]
        }
      ]
    },
    {
      "cell_type": "code",
      "source": [
        "def calculator(a,b,op=\"+\"):\n",
        "  if op == \"+\":\n",
        "    return(a+b)\n",
        "  elif op == \"-\":\n",
        "    return(a-b)\n",
        "  elif op == \"/\":\n",
        "    return(a/b)\n",
        "  elif op == \"*\":\n",
        "    return(a*b)\n",
        "  else:\n",
        "    return(\"Invalid Operation\")"
      ],
      "metadata": {
        "id": "ej_OOr1nN3gm"
      },
      "execution_count": 30,
      "outputs": []
    },
    {
      "cell_type": "code",
      "source": [
        "result = calculator(10,20)"
      ],
      "metadata": {
        "id": "3rT3beOXOBDZ"
      },
      "execution_count": 31,
      "outputs": []
    },
    {
      "cell_type": "code",
      "source": [
        "print(result)"
      ],
      "metadata": {
        "colab": {
          "base_uri": "https://localhost:8080/"
        },
        "id": "ZiBbM68aOduC",
        "outputId": "12ceb0cb-33d4-4371-896b-69f2e62e3773"
      },
      "execution_count": 32,
      "outputs": [
        {
          "output_type": "stream",
          "name": "stdout",
          "text": [
            "30\n"
          ]
        }
      ]
    },
    {
      "cell_type": "code",
      "source": [],
      "metadata": {
        "id": "Y-35jRxHOe9h"
      },
      "execution_count": null,
      "outputs": []
    }
  ]
}