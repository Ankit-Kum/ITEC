{
  "nbformat": 4,
  "nbformat_minor": 0,
  "metadata": {
    "colab": {
      "provenance": []
    },
    "kernelspec": {
      "name": "python3",
      "display_name": "Python 3"
    },
    "language_info": {
      "name": "python"
    }
  },
  "cells": [
    {
      "cell_type": "code",
      "execution_count": null,
      "metadata": {
        "colab": {
          "base_uri": "https://localhost:8080/"
        },
        "id": "XgZ1yLENk0i-",
        "outputId": "25507cd9-2d39-4962-92ed-1ede61417915"
      },
      "outputs": [
        {
          "output_type": "stream",
          "name": "stdout",
          "text": [
            "Hello World\n"
          ]
        }
      ],
      "source": [
        "print('Hello World')"
      ]
    },
    {
      "cell_type": "markdown",
      "source": [
        "**Topics for Basic Python**\n",
        "* Variables and Values\n",
        "* Data Types\n",
        "* Operators\n",
        "* Conditional Programming - If-else\n",
        "* Loop - For loop, While loop\n",
        "* Functions\n",
        "* File Handling & Exception Handling\n",
        "\n",
        "**Libraries for Data Science & ML**\n",
        "* Numpy\n",
        "* Pandas\n",
        "* Matplotlib\n",
        "* Seaborn\n",
        "* pickle\n",
        "* json"
      ],
      "metadata": {
        "id": "CHngUxwEnOe9"
      }
    },
    {
      "cell_type": "code",
      "source": [
        "#variable - stores a value\n",
        "\n",
        "a = 3\n",
        "name = \"Bipul\"\n",
        "salary = 35000.34"
      ],
      "metadata": {
        "id": "23g-6akNk4BF"
      },
      "execution_count": null,
      "outputs": []
    },
    {
      "cell_type": "code",
      "source": [
        "print(a * 2)\n",
        "print(a + 5)\n",
        "print(a * 5)\n",
        "print(a - 6)"
      ],
      "metadata": {
        "colab": {
          "base_uri": "https://localhost:8080/"
        },
        "id": "B9Ba-lrWpNpu",
        "outputId": "7e66d817-491b-4310-ed5b-2dcc33b4acc0"
      },
      "execution_count": null,
      "outputs": [
        {
          "output_type": "stream",
          "name": "stdout",
          "text": [
            "6\n",
            "8\n",
            "15\n",
            "-3\n"
          ]
        }
      ]
    },
    {
      "cell_type": "markdown",
      "source": [
        "**Data Types**"
      ],
      "metadata": {
        "id": "fJCS3cX_p0GC"
      }
    },
    {
      "cell_type": "code",
      "source": [
        "print(type(a))\n",
        "print(type(name))\n",
        "print(type(salary))"
      ],
      "metadata": {
        "colab": {
          "base_uri": "https://localhost:8080/"
        },
        "id": "wpXTLDsYpUiR",
        "outputId": "56f3db3c-a287-4f5d-ef6d-4b2f69b7b4d3"
      },
      "execution_count": null,
      "outputs": [
        {
          "output_type": "stream",
          "name": "stdout",
          "text": [
            "<class 'int'>\n",
            "<class 'str'>\n",
            "<class 'float'>\n"
          ]
        }
      ]
    },
    {
      "cell_type": "markdown",
      "source": [
        "**List**"
      ],
      "metadata": {
        "id": "-ery5HjstlTC"
      }
    },
    {
      "cell_type": "code",
      "source": [
        "cities = ['Delhi' , 'Mumbai' , 'Jaipur' , 'Hyderabaad' , 'Mysore']\n",
        "print(cities)"
      ],
      "metadata": {
        "colab": {
          "base_uri": "https://localhost:8080/"
        },
        "id": "2XXjn9ILpnr9",
        "outputId": "8f01a7bd-c711-403b-80d7-e5e67c9289a0"
      },
      "execution_count": null,
      "outputs": [
        {
          "output_type": "stream",
          "name": "stdout",
          "text": [
            "['Delhi', 'Mumbai', 'Jaipur', 'Hyderabaad', 'Mysore']\n"
          ]
        }
      ]
    },
    {
      "cell_type": "code",
      "source": [
        "print(type(cities))"
      ],
      "metadata": {
        "colab": {
          "base_uri": "https://localhost:8080/"
        },
        "id": "NBDsAEswq4Q1",
        "outputId": "665be6f7-2d8c-42fd-cd1d-9bf89485ce9b"
      },
      "execution_count": null,
      "outputs": [
        {
          "output_type": "stream",
          "name": "stdout",
          "text": [
            "<class 'list'>\n"
          ]
        }
      ]
    },
    {
      "cell_type": "code",
      "source": [
        "print(cities[0])\n",
        "print(cities[2])"
      ],
      "metadata": {
        "colab": {
          "base_uri": "https://localhost:8080/"
        },
        "id": "Hv3xgTLdrzm6",
        "outputId": "972058d5-397b-4698-e81b-e84c7fff0ba5"
      },
      "execution_count": null,
      "outputs": [
        {
          "output_type": "stream",
          "name": "stdout",
          "text": [
            "Delhi\n",
            "Jaipur\n"
          ]
        }
      ]
    },
    {
      "cell_type": "code",
      "source": [
        "print(cities)\n",
        "cities[2] = 'Udaipur'\n",
        "print(cities)"
      ],
      "metadata": {
        "colab": {
          "base_uri": "https://localhost:8080/"
        },
        "id": "mQnX0vtssACd",
        "outputId": "500e188a-deeb-4da3-d77a-036cbc3a9694"
      },
      "execution_count": null,
      "outputs": [
        {
          "output_type": "stream",
          "name": "stdout",
          "text": [
            "['Delhi', 'Mumbai', 'Jaipur', 'Hyderabaad', 'Mysore']\n",
            "['Delhi', 'Mumbai', 'Udaipur', 'Hyderabaad', 'Mysore']\n"
          ]
        }
      ]
    },
    {
      "cell_type": "code",
      "source": [
        "#Adding a new entity  => append()\n",
        "print(cities)\n",
        "cities.append('Banglore')\n",
        "print(cities)"
      ],
      "metadata": {
        "colab": {
          "base_uri": "https://localhost:8080/"
        },
        "id": "8srIJE_SsAGP",
        "outputId": "ef1d725d-9dd0-4bb4-f320-22ffa7b8e3c5"
      },
      "execution_count": null,
      "outputs": [
        {
          "output_type": "stream",
          "name": "stdout",
          "text": [
            "['Delhi', 'Mumbai', 'Udaipur', 'Hyderabaad', 'Mysore']\n",
            "['Delhi', 'Mumbai', 'Udaipur', 'Hyderabaad', 'Mysore', 'Banglore']\n"
          ]
        }
      ]
    },
    {
      "cell_type": "code",
      "source": [
        "#Adding a new entity at a defined index => index 3 => insert()\n",
        "\n",
        "print(cities)\n",
        "cities.insert(3 , 'Mohali')\n",
        "print(cities)"
      ],
      "metadata": {
        "colab": {
          "base_uri": "https://localhost:8080/"
        },
        "id": "WWKC7RqTse9V",
        "outputId": "2afcf6a1-530b-4fee-8f9e-d1383d5e025f"
      },
      "execution_count": null,
      "outputs": [
        {
          "output_type": "stream",
          "name": "stdout",
          "text": [
            "['Delhi', 'Mumbai', 'Udaipur', 'Hyderabaad', 'Mysore', 'Banglore']\n",
            "['Delhi', 'Mumbai', 'Udaipur', 'Mohali', 'Hyderabaad', 'Mysore', 'Banglore']\n"
          ]
        }
      ]
    },
    {
      "cell_type": "code",
      "source": [
        "#remove a value => remove()\n",
        "\n",
        "print(cities)\n",
        "cities.remove('Mumbai')\n",
        "print(cities)"
      ],
      "metadata": {
        "colab": {
          "base_uri": "https://localhost:8080/"
        },
        "id": "Zhrt_TnMsfAq",
        "outputId": "6b10722d-bc22-42e8-a14b-5df72503f5f6"
      },
      "execution_count": null,
      "outputs": [
        {
          "output_type": "stream",
          "name": "stdout",
          "text": [
            "['Delhi', 'Mumbai', 'Udaipur', 'Mohali', 'Hyderabaad', 'Mysore', 'Banglore']\n",
            "['Delhi', 'Udaipur', 'Mohali', 'Hyderabaad', 'Mysore', 'Banglore']\n"
          ]
        }
      ]
    },
    {
      "cell_type": "code",
      "source": [
        "#remove a value using index or address of a value => pop()\n",
        "\n",
        "print(cities)\n",
        "cities.pop(2)\n",
        "print(cities)"
      ],
      "metadata": {
        "colab": {
          "base_uri": "https://localhost:8080/"
        },
        "id": "zKnkQsZhsfD6",
        "outputId": "faa75d1e-facf-4d12-a2e6-647974790083"
      },
      "execution_count": null,
      "outputs": [
        {
          "output_type": "stream",
          "name": "stdout",
          "text": [
            "['Delhi', 'Udaipur', 'Mohali', 'Hyderabaad', 'Mysore', 'Banglore']\n",
            "['Delhi', 'Udaipur', 'Hyderabaad', 'Mysore', 'Banglore']\n"
          ]
        }
      ]
    },
    {
      "cell_type": "code",
      "source": [
        "print(cities)\n",
        "print(len(cities))"
      ],
      "metadata": {
        "colab": {
          "base_uri": "https://localhost:8080/"
        },
        "id": "mcism1LHtIKu",
        "outputId": "c1858d7c-f9f6-4ae7-e3a9-af845b126ed7"
      },
      "execution_count": null,
      "outputs": [
        {
          "output_type": "stream",
          "name": "stdout",
          "text": [
            "['Delhi', 'Udaipur', 'Hyderabaad', 'Mysore', 'Banglore']\n",
            "5\n"
          ]
        }
      ]
    },
    {
      "cell_type": "markdown",
      "source": [
        "**Tuple**"
      ],
      "metadata": {
        "id": "CQSIUB0eth3C"
      }
    },
    {
      "cell_type": "code",
      "source": [
        "employee = ('Amit' , 'Varun' , 'Jay' , 'John' , 'Jerry')\n",
        "print(employee)"
      ],
      "metadata": {
        "colab": {
          "base_uri": "https://localhost:8080/"
        },
        "id": "cnOIhx_9q7XK",
        "outputId": "fe249ddf-941c-4165-dd99-5d77a5ab0411"
      },
      "execution_count": null,
      "outputs": [
        {
          "output_type": "stream",
          "name": "stdout",
          "text": [
            "('Amit', 'Varun', 'Jay', 'John', 'Jerry')\n"
          ]
        }
      ]
    },
    {
      "cell_type": "code",
      "source": [
        "print(type(employee))"
      ],
      "metadata": {
        "colab": {
          "base_uri": "https://localhost:8080/"
        },
        "id": "jep_fHKErPa3",
        "outputId": "75d070f2-21eb-443b-9c14-62470b7b7a66"
      },
      "execution_count": null,
      "outputs": [
        {
          "output_type": "stream",
          "name": "stdout",
          "text": [
            "<class 'tuple'>\n"
          ]
        }
      ]
    },
    {
      "cell_type": "code",
      "source": [
        "print(employee[1])"
      ],
      "metadata": {
        "colab": {
          "base_uri": "https://localhost:8080/"
        },
        "id": "9iNucVKKrTX1",
        "outputId": "0d9dc4e3-f99f-4de3-abc0-cee91173a65f"
      },
      "execution_count": null,
      "outputs": [
        {
          "output_type": "stream",
          "name": "stdout",
          "text": [
            "Varun\n"
          ]
        }
      ]
    },
    {
      "cell_type": "code",
      "source": [
        "employee[1] = 'Vijay'"
      ],
      "metadata": {
        "colab": {
          "base_uri": "https://localhost:8080/",
          "height": 173
        },
        "id": "NQ4Ojl8Ptp4D",
        "outputId": "ff9d4c41-ce43-4fb6-d08b-1bd260a5df77"
      },
      "execution_count": null,
      "outputs": [
        {
          "output_type": "error",
          "ename": "TypeError",
          "evalue": "ignored",
          "traceback": [
            "\u001b[0;31m---------------------------------------------------------------------------\u001b[0m",
            "\u001b[0;31mTypeError\u001b[0m                                 Traceback (most recent call last)",
            "\u001b[0;32m<ipython-input-24-6bf99d5181a8>\u001b[0m in \u001b[0;36m<cell line: 1>\u001b[0;34m()\u001b[0m\n\u001b[0;32m----> 1\u001b[0;31m \u001b[0memployee\u001b[0m\u001b[0;34m[\u001b[0m\u001b[0;36m1\u001b[0m\u001b[0;34m]\u001b[0m \u001b[0;34m=\u001b[0m \u001b[0;34m'Vijay'\u001b[0m\u001b[0;34m\u001b[0m\u001b[0;34m\u001b[0m\u001b[0m\n\u001b[0m",
            "\u001b[0;31mTypeError\u001b[0m: 'tuple' object does not support item assignment"
          ]
        }
      ]
    },
    {
      "cell_type": "markdown",
      "source": [
        "**Dictionary**"
      ],
      "metadata": {
        "id": "qTDK2tU3u7h8"
      }
    },
    {
      "cell_type": "code",
      "source": [
        "emp = {'name' : 'Varun' , 'age' : 38 , 'salary' : 439087}\n",
        "print(emp)"
      ],
      "metadata": {
        "colab": {
          "base_uri": "https://localhost:8080/"
        },
        "id": "vwbY6bErttxF",
        "outputId": "1f4a9f35-d4c8-4cac-e068-0ef8d46a741d"
      },
      "execution_count": null,
      "outputs": [
        {
          "output_type": "stream",
          "name": "stdout",
          "text": [
            "{'name': 'Varun', 'age': 38, 'salary': 439087}\n"
          ]
        }
      ]
    },
    {
      "cell_type": "code",
      "source": [
        "print(type(emp))"
      ],
      "metadata": {
        "colab": {
          "base_uri": "https://localhost:8080/"
        },
        "id": "L9sIJk1zvIbV",
        "outputId": "ee1917a8-0ef5-493c-f44a-c11e51ee4299"
      },
      "execution_count": null,
      "outputs": [
        {
          "output_type": "stream",
          "name": "stdout",
          "text": [
            "<class 'dict'>\n"
          ]
        }
      ]
    },
    {
      "cell_type": "code",
      "source": [
        "print(emp.keys())\n",
        "print(emp.values())"
      ],
      "metadata": {
        "colab": {
          "base_uri": "https://localhost:8080/"
        },
        "id": "ZRoKWQZkvKYJ",
        "outputId": "eb574468-2f9c-438b-d3a7-33f293ede877"
      },
      "execution_count": null,
      "outputs": [
        {
          "output_type": "stream",
          "name": "stdout",
          "text": [
            "dict_keys(['name', 'age', 'salary'])\n",
            "dict_values(['Varun', 38, 439087])\n"
          ]
        }
      ]
    },
    {
      "cell_type": "code",
      "source": [
        "print(emp['name'])\n",
        "print(emp['age'])"
      ],
      "metadata": {
        "colab": {
          "base_uri": "https://localhost:8080/"
        },
        "id": "RIxHTK-DvNtD",
        "outputId": "c0e53bc3-5937-4f45-9bc5-2af87abedb28"
      },
      "execution_count": null,
      "outputs": [
        {
          "output_type": "stream",
          "name": "stdout",
          "text": [
            "Varun\n",
            "38\n"
          ]
        }
      ]
    },
    {
      "cell_type": "code",
      "source": [
        "emp['email'] = 'varun@hello.com'\n",
        "print(emp)"
      ],
      "metadata": {
        "colab": {
          "base_uri": "https://localhost:8080/"
        },
        "id": "TIz940OwvWMe",
        "outputId": "d1c59a35-db67-4c40-871c-5980548e79bc"
      },
      "execution_count": null,
      "outputs": [
        {
          "output_type": "stream",
          "name": "stdout",
          "text": [
            "{'name': 'Varun', 'age': 38, 'salary': 439087, 'email': 'varun@hello.com'}\n"
          ]
        }
      ]
    },
    {
      "cell_type": "code",
      "source": [
        "emp['salary'] = 554958\n",
        "print(emp)"
      ],
      "metadata": {
        "colab": {
          "base_uri": "https://localhost:8080/"
        },
        "id": "0aOJUn-SvgwE",
        "outputId": "bd30ec44-aa12-4da6-a852-894a9faf649c"
      },
      "execution_count": null,
      "outputs": [
        {
          "output_type": "stream",
          "name": "stdout",
          "text": [
            "{'name': 'Varun', 'age': 38, 'salary': 554958, 'email': 'varun@hello.com'}\n"
          ]
        }
      ]
    },
    {
      "cell_type": "code",
      "source": [
        "del(emp['age'])\n",
        "print(emp)"
      ],
      "metadata": {
        "colab": {
          "base_uri": "https://localhost:8080/"
        },
        "id": "hP_-T5kwvlu4",
        "outputId": "026aa549-86bf-4664-d46b-540ab1b33c4d"
      },
      "execution_count": null,
      "outputs": [
        {
          "output_type": "stream",
          "name": "stdout",
          "text": [
            "{'name': 'Varun', 'salary': 554958, 'email': 'varun@hello.com'}\n"
          ]
        }
      ]
    },
    {
      "cell_type": "markdown",
      "source": [
        "**Sets**"
      ],
      "metadata": {
        "id": "gmh3my9mvw6A"
      }
    },
    {
      "cell_type": "code",
      "source": [
        "employee = {'Amit' , 'Varun' , 'Jay' , 'John' , 'Jerry' , 'Amit' , 'Jay'}\n",
        "print(employee)"
      ],
      "metadata": {
        "colab": {
          "base_uri": "https://localhost:8080/"
        },
        "id": "u5rH1Lhavq84",
        "outputId": "2438c15b-8b9b-4d5f-d77d-4cab732452a1"
      },
      "execution_count": null,
      "outputs": [
        {
          "output_type": "stream",
          "name": "stdout",
          "text": [
            "{'Jay', 'John', 'Jerry', 'Amit', 'Varun'}\n"
          ]
        }
      ]
    },
    {
      "cell_type": "code",
      "source": [
        "employee_list = ['Amit' , 'Varun' , 'Jay' , 'John' , 'Jerry' , 'Amit' , 'Jay']\n",
        "print(employee_list)"
      ],
      "metadata": {
        "colab": {
          "base_uri": "https://localhost:8080/"
        },
        "id": "LNkGCANxwCY-",
        "outputId": "41adca0a-6e9a-4e47-faf2-056451ecb648"
      },
      "execution_count": null,
      "outputs": [
        {
          "output_type": "stream",
          "name": "stdout",
          "text": [
            "['Amit', 'Varun', 'Jay', 'John', 'Jerry', 'Amit', 'Jay']\n"
          ]
        }
      ]
    },
    {
      "cell_type": "code",
      "source": [
        "employee_tuple = ('Amit' , 'Varun' , 'Jay' , 'John' , 'Jerry' , 'Amit' , 'Jay')\n",
        "print(employee_tuple)"
      ],
      "metadata": {
        "colab": {
          "base_uri": "https://localhost:8080/"
        },
        "id": "hk4lOD-lwKvX",
        "outputId": "fd8b267a-bc0b-475c-ce92-bb0636c1efff"
      },
      "execution_count": null,
      "outputs": [
        {
          "output_type": "stream",
          "name": "stdout",
          "text": [
            "('Amit', 'Varun', 'Jay', 'John', 'Jerry', 'Amit', 'Jay')\n"
          ]
        }
      ]
    },
    {
      "cell_type": "code",
      "source": [],
      "metadata": {
        "id": "_zKASoCswQuJ"
      },
      "execution_count": null,
      "outputs": []
    }
  ]
}