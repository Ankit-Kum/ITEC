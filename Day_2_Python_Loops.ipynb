{
  "nbformat": 4,
  "nbformat_minor": 0,
  "metadata": {
    "colab": {
      "provenance": []
    },
    "kernelspec": {
      "name": "python3",
      "display_name": "Python 3"
    },
    "language_info": {
      "name": "python"
    }
  },
  "cells": [
    {
      "cell_type": "code",
      "execution_count": 1,
      "metadata": {
        "id": "ECr5TqapCA1G"
      },
      "outputs": [],
      "source": [
        "### While Loop"
      ]
    },
    {
      "cell_type": "code",
      "source": [
        "i = 0\n",
        "while i<10:\n",
        "  print(\"The value of i is {}\".format(i))\n",
        "  i = i+1     # i += 1"
      ],
      "metadata": {
        "colab": {
          "base_uri": "https://localhost:8080/"
        },
        "id": "kb6WxTpwCzBa",
        "outputId": "29f6daee-93f2-4ccc-be07-bc32eaf9c9d3"
      },
      "execution_count": 2,
      "outputs": [
        {
          "output_type": "stream",
          "name": "stdout",
          "text": [
            "The value of i is 0\n",
            "The value of i is 1\n",
            "The value of i is 2\n",
            "The value of i is 3\n",
            "The value of i is 4\n",
            "The value of i is 5\n",
            "The value of i is 6\n",
            "The value of i is 7\n",
            "The value of i is 8\n",
            "The value of i is 9\n"
          ]
        }
      ]
    },
    {
      "cell_type": "code",
      "source": [
        "while True:\n",
        "  print(\"Infinite Loop\")"
      ],
      "metadata": {
        "id": "KbILu0AWDrqT"
      },
      "execution_count": null,
      "outputs": []
    },
    {
      "cell_type": "code",
      "source": [
        "i = 0\n",
        "while i<10:\n",
        "  print(\"The value of i is {}\".format(i),end=\" \")\n",
        "  i = i+1     # i += 1"
      ],
      "metadata": {
        "colab": {
          "base_uri": "https://localhost:8080/"
        },
        "id": "IcTfGbH2EmNw",
        "outputId": "db789450-6767-4307-f268-1c20b0440a58"
      },
      "execution_count": 4,
      "outputs": [
        {
          "output_type": "stream",
          "name": "stdout",
          "text": [
            "The value of i is 0 The value of i is 1 The value of i is 2 The value of i is 3 The value of i is 4 The value of i is 5 The value of i is 6 The value of i is 7 The value of i is 8 The value of i is 9 "
          ]
        }
      ]
    },
    {
      "cell_type": "code",
      "source": [
        "### for loop"
      ],
      "metadata": {
        "id": "yxze_BrcEvS5"
      },
      "execution_count": 5,
      "outputs": []
    },
    {
      "cell_type": "code",
      "source": [
        "for i in range(10):\n",
        "  print(\"The value of i is {}\".format(i))"
      ],
      "metadata": {
        "id": "nGO5zt5KFEkO"
      },
      "execution_count": null,
      "outputs": []
    },
    {
      "cell_type": "code",
      "source": [
        "for i in range(10,30):\n",
        "  print(\"The value of i is {}\".format(i))"
      ],
      "metadata": {
        "id": "Rebj_G9tFYqI"
      },
      "execution_count": null,
      "outputs": []
    },
    {
      "cell_type": "code",
      "source": [
        "for i in range(10,30,3):\n",
        "  print(\"The value of i is {}\".format(i))"
      ],
      "metadata": {
        "colab": {
          "base_uri": "https://localhost:8080/"
        },
        "id": "jPN_OXwTFjD8",
        "outputId": "4ee1d035-906f-4f4d-e2b3-9c95ec1b25c4"
      },
      "execution_count": 8,
      "outputs": [
        {
          "output_type": "stream",
          "name": "stdout",
          "text": [
            "The value of i is 10\n",
            "The value of i is 13\n",
            "The value of i is 16\n",
            "The value of i is 19\n",
            "The value of i is 22\n",
            "The value of i is 25\n",
            "The value of i is 28\n"
          ]
        }
      ]
    },
    {
      "cell_type": "code",
      "source": [
        "subjects = [\"Hindi\",\"Maths\",\"English\",\"EVS\",\"Science\"]\n",
        "i = 0\n",
        "while i<len(subjects):\n",
        "  print(subjects[i])\n",
        "  i = i+1"
      ],
      "metadata": {
        "colab": {
          "base_uri": "https://localhost:8080/"
        },
        "id": "Bu2MVbrCFsO5",
        "outputId": "a70497c5-cd11-4a17-9faf-e8e343f69f84"
      },
      "execution_count": 3,
      "outputs": [
        {
          "output_type": "stream",
          "name": "stdout",
          "text": [
            "Hindi\n",
            "Maths\n",
            "English\n",
            "EVS\n",
            "Science\n"
          ]
        }
      ]
    },
    {
      "cell_type": "code",
      "source": [
        "subjects = [\"Hindi\",\"Maths\",\"English\",\"EVS\",\"Science\"]\n",
        "for i in range(len(subjects)):\n",
        "  print(subjects[i])"
      ],
      "metadata": {
        "colab": {
          "base_uri": "https://localhost:8080/"
        },
        "id": "zmtR3J9zGVNe",
        "outputId": "f68e8926-4eaf-4f9e-e812-ee20ff1fde7c"
      },
      "execution_count": 5,
      "outputs": [
        {
          "output_type": "stream",
          "name": "stdout",
          "text": [
            "Hindi\n",
            "Maths\n",
            "English\n",
            "EVS\n",
            "Science\n"
          ]
        }
      ]
    },
    {
      "cell_type": "code",
      "source": [
        "## for each loop\n",
        "subjects = [\"Hindi\",\"Maths\",\"English\",\"EVS\",\"Science\"]\n",
        "for i in subjects:\n",
        "  print(i)"
      ],
      "metadata": {
        "colab": {
          "base_uri": "https://localhost:8080/"
        },
        "id": "68YDOza_HkRv",
        "outputId": "6352ca07-503e-47ed-f208-f9119ee6ed1f"
      },
      "execution_count": 6,
      "outputs": [
        {
          "output_type": "stream",
          "name": "stdout",
          "text": [
            "Hindi\n",
            "Maths\n",
            "English\n",
            "EVS\n",
            "Science\n"
          ]
        }
      ]
    },
    {
      "cell_type": "code",
      "source": [
        "for i in \"Umang\":\n",
        "  print(i)"
      ],
      "metadata": {
        "colab": {
          "base_uri": "https://localhost:8080/"
        },
        "id": "1jTdGCirHrgQ",
        "outputId": "59409096-ad9e-4ada-9fe2-9f35a22c2197"
      },
      "execution_count": 7,
      "outputs": [
        {
          "output_type": "stream",
          "name": "stdout",
          "text": [
            "U\n",
            "m\n",
            "a\n",
            "n\n",
            "g\n"
          ]
        }
      ]
    },
    {
      "cell_type": "code",
      "source": [],
      "metadata": {
        "id": "VfsRZ-ZqIGcd"
      },
      "execution_count": null,
      "outputs": []
    }
  ]
}