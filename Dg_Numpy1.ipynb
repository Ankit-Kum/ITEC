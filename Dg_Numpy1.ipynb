{
  "nbformat": 4,
  "nbformat_minor": 0,
  "metadata": {
    "colab": {
      "provenance": []
    },
    "kernelspec": {
      "name": "python3",
      "display_name": "Python 3"
    },
    "language_info": {
      "name": "python"
    }
  },
  "cells": [
    {
      "cell_type": "markdown",
      "source": [
        "**Numpy - Numerical Python**"
      ],
      "metadata": {
        "id": "mZvDOB1o6ig8"
      }
    },
    {
      "cell_type": "code",
      "execution_count": null,
      "metadata": {
        "colab": {
          "base_uri": "https://localhost:8080/"
        },
        "id": "aL9VBZl_6dn5",
        "outputId": "34acdb07-a28c-401f-ce8a-ab87d7fef6ef"
      },
      "outputs": [
        {
          "output_type": "stream",
          "name": "stdout",
          "text": [
            "2.3333333333333335\n"
          ]
        }
      ],
      "source": [
        "a = 7\n",
        "b = 3\n",
        "print(a/b)"
      ]
    },
    {
      "cell_type": "code",
      "source": [
        "c = [10,20,30,40,50,60,70]\n",
        "print(c/2)"
      ],
      "metadata": {
        "colab": {
          "base_uri": "https://localhost:8080/",
          "height": 192
        },
        "id": "QLHSeq7F6pZD",
        "outputId": "1093126d-4adc-4127-ecd3-6549553aef0a"
      },
      "execution_count": null,
      "outputs": [
        {
          "output_type": "error",
          "ename": "TypeError",
          "evalue": "ignored",
          "traceback": [
            "\u001b[0;31m---------------------------------------------------------------------------\u001b[0m",
            "\u001b[0;31mTypeError\u001b[0m                                 Traceback (most recent call last)",
            "\u001b[0;32m<ipython-input-18-a43339665f07>\u001b[0m in \u001b[0;36m<cell line: 2>\u001b[0;34m()\u001b[0m\n\u001b[1;32m      1\u001b[0m \u001b[0mc\u001b[0m \u001b[0;34m=\u001b[0m \u001b[0;34m[\u001b[0m\u001b[0;36m10\u001b[0m\u001b[0;34m,\u001b[0m\u001b[0;36m20\u001b[0m\u001b[0;34m,\u001b[0m\u001b[0;36m30\u001b[0m\u001b[0;34m,\u001b[0m\u001b[0;36m40\u001b[0m\u001b[0;34m,\u001b[0m\u001b[0;36m50\u001b[0m\u001b[0;34m,\u001b[0m\u001b[0;36m60\u001b[0m\u001b[0;34m,\u001b[0m\u001b[0;36m70\u001b[0m\u001b[0;34m]\u001b[0m\u001b[0;34m\u001b[0m\u001b[0;34m\u001b[0m\u001b[0m\n\u001b[0;32m----> 2\u001b[0;31m \u001b[0mprint\u001b[0m\u001b[0;34m(\u001b[0m\u001b[0mc\u001b[0m\u001b[0;34m/\u001b[0m\u001b[0;36m2\u001b[0m\u001b[0;34m)\u001b[0m\u001b[0;34m\u001b[0m\u001b[0;34m\u001b[0m\u001b[0m\n\u001b[0m",
            "\u001b[0;31mTypeError\u001b[0m: unsupported operand type(s) for /: 'list' and 'int'"
          ]
        }
      ]
    },
    {
      "cell_type": "code",
      "source": [
        "divide_by_two = lambda x : [val/2 for val in x]\n",
        "divide_by_two(c)"
      ],
      "metadata": {
        "colab": {
          "base_uri": "https://localhost:8080/"
        },
        "id": "oUA-GS688pvR",
        "outputId": "99a2ce08-fbc0-4dfc-d8ad-501639693675"
      },
      "execution_count": null,
      "outputs": [
        {
          "output_type": "execute_result",
          "data": {
            "text/plain": [
              "[5.0, 10.0, 15.0, 20.0, 25.0, 30.0, 35.0]"
            ]
          },
          "metadata": {},
          "execution_count": 19
        }
      ]
    },
    {
      "cell_type": "code",
      "source": [
        "d = [[10,20,30,40,50,60,70],[11,22,33,44,55,66,77],[101,202,303,404,505,606,707]]\n",
        "print(d)"
      ],
      "metadata": {
        "colab": {
          "base_uri": "https://localhost:8080/"
        },
        "id": "iuzw94mM9r4i",
        "outputId": "7f5cc288-0b0a-4048-a216-68ebccc0dcac"
      },
      "execution_count": null,
      "outputs": [
        {
          "output_type": "stream",
          "name": "stdout",
          "text": [
            "[[10, 20, 30, 40, 50, 60, 70], [11, 22, 33, 44, 55, 66, 77], [101, 202, 303, 404, 505, 606, 707]]\n"
          ]
        }
      ]
    },
    {
      "cell_type": "code",
      "source": [
        "import numpy as np\n",
        "n1 = np.array([10,20,30,40,50,60,70])\n",
        "print(n1)"
      ],
      "metadata": {
        "colab": {
          "base_uri": "https://localhost:8080/"
        },
        "id": "ejHSD4EB6yFv",
        "outputId": "cf9382dc-27cc-48c4-ccc5-d994b9ee7c85"
      },
      "execution_count": null,
      "outputs": [
        {
          "output_type": "stream",
          "name": "stdout",
          "text": [
            "[10 20 30 40 50 60 70]\n"
          ]
        }
      ]
    },
    {
      "cell_type": "code",
      "source": [
        "print(type(n1))"
      ],
      "metadata": {
        "colab": {
          "base_uri": "https://localhost:8080/"
        },
        "id": "F5Xk-PVR8Xvo",
        "outputId": "82376966-d401-491f-9b3b-2fa9a461310e"
      },
      "execution_count": null,
      "outputs": [
        {
          "output_type": "stream",
          "name": "stdout",
          "text": [
            "<class 'numpy.ndarray'>\n"
          ]
        }
      ]
    },
    {
      "cell_type": "code",
      "source": [
        "print(n1/2)\n",
        "print(n1*3)"
      ],
      "metadata": {
        "colab": {
          "base_uri": "https://localhost:8080/"
        },
        "id": "Xmre5IaC8iWl",
        "outputId": "9b39140d-6318-45fa-faae-27956eaff984"
      },
      "execution_count": null,
      "outputs": [
        {
          "output_type": "stream",
          "name": "stdout",
          "text": [
            "[ 5. 10. 15. 20. 25. 30. 35.]\n",
            "[ 30  60  90 120 150 180 210]\n"
          ]
        }
      ]
    },
    {
      "cell_type": "code",
      "source": [
        "n2 = np.array([[10,20,30,40,50,60,70],[11,22,33,44,55,66,77],[101,202,303,404,505,606,707]])\n",
        "print(n2)"
      ],
      "metadata": {
        "colab": {
          "base_uri": "https://localhost:8080/"
        },
        "id": "3XW1Q3cg8l0L",
        "outputId": "a2caa923-9f6b-4b69-be84-ce97cb303343"
      },
      "execution_count": null,
      "outputs": [
        {
          "output_type": "stream",
          "name": "stdout",
          "text": [
            "[[ 10  20  30  40  50  60  70]\n",
            " [ 11  22  33  44  55  66  77]\n",
            " [101 202 303 404 505 606 707]]\n"
          ]
        }
      ]
    },
    {
      "cell_type": "code",
      "source": [
        "print(n2.shape)\n",
        "print(n2.ndim)\n",
        "print(n2.size)"
      ],
      "metadata": {
        "colab": {
          "base_uri": "https://localhost:8080/"
        },
        "id": "Kb4Vc1aM9YUd",
        "outputId": "355eb0b7-596a-4284-914f-aa90df075c08"
      },
      "execution_count": null,
      "outputs": [
        {
          "output_type": "stream",
          "name": "stdout",
          "text": [
            "(3, 7)\n",
            "2\n",
            "21\n"
          ]
        }
      ]
    },
    {
      "cell_type": "code",
      "source": [
        "print(np.sum(n2))\n",
        "print(np.prod(n2))\n",
        "print(np.mean(n2))\n",
        "print(np.median(n2))\n",
        "print(np.std(n2))\n",
        "print(np.min(n2))\n",
        "print(np.max(n2))\n",
        "print(np.argmax(n2))\n",
        "print(np.argmin(n2))"
      ],
      "metadata": {
        "colab": {
          "base_uri": "https://localhost:8080/"
        },
        "id": "FaoBTw2v9y4R",
        "outputId": "9bd53167-d91c-4fb0-fe9d-394156e11b00"
      },
      "execution_count": null,
      "outputs": [
        {
          "output_type": "stream",
          "name": "stdout",
          "text": [
            "3416\n",
            "8876945796898488320\n",
            "162.66666666666666\n",
            "60.0\n",
            "207.41156080497433\n",
            "10\n",
            "707\n",
            "20\n",
            "0\n"
          ]
        }
      ]
    },
    {
      "cell_type": "code",
      "source": [
        "#axis = 1:- Calculations will be made on each row\n",
        "print(np.sum(n2 , axis = 1))\n",
        "print(np.prod(n2, axis = 1))\n",
        "print(np.mean(n2, axis = 1))\n",
        "print(np.median(n2, axis = 1))\n",
        "print(np.std(n2, axis = 1))\n",
        "print(np.min(n2, axis = 1))\n",
        "print(np.max(n2, axis = 1))\n",
        "print(np.argmax(n2, axis = 1))\n",
        "print(np.argmin(n2, axis = 1))"
      ],
      "metadata": {
        "colab": {
          "base_uri": "https://localhost:8080/"
        },
        "id": "GyoEAqDY_aNk",
        "outputId": "487cf9e3-41a8-4b8f-c1d7-8a527885b4c8"
      },
      "execution_count": null,
      "outputs": [
        {
          "output_type": "stream",
          "name": "stdout",
          "text": [
            "[ 280  308 2828]\n",
            "[       50400000000        98215341840 540356217461933040]\n",
            "[ 40.  44. 404.]\n",
            "[ 40.  44. 404.]\n",
            "[ 20.  22. 202.]\n",
            "[ 10  11 101]\n",
            "[ 70  77 707]\n",
            "[6 6 6]\n",
            "[0 0 0]\n"
          ]
        }
      ]
    },
    {
      "cell_type": "code",
      "source": [
        "#axis = 0:- Calculations will be made on each column\n",
        "print(np.sum(n2 , axis = 0))\n",
        "print(np.prod(n2, axis = 0))\n",
        "print(np.mean(n2, axis = 0))\n",
        "print(np.median(n2, axis = 0))\n",
        "print(np.std(n2, axis = 0))\n",
        "print(np.min(n2, axis = 0))\n",
        "print(np.max(n2, axis = 0))\n",
        "print(np.argmax(n2, axis = 0))\n",
        "print(np.argmin(n2, axis = 0))"
      ],
      "metadata": {
        "colab": {
          "base_uri": "https://localhost:8080/"
        },
        "id": "cMONKImF_vlN",
        "outputId": "cdc24899-24f7-49e7-d08a-db21034f571f"
      },
      "execution_count": null,
      "outputs": [
        {
          "output_type": "stream",
          "name": "stdout",
          "text": [
            "[122 244 366 488 610 732 854]\n",
            "[  11110   88880  299970  711040 1388750 2399760 3810730]\n",
            "[ 40.66666667  81.33333333 122.         162.66666667 203.33333333\n",
            " 244.         284.66666667]\n",
            "[11. 22. 33. 44. 55. 66. 77.]\n",
            "[ 42.66406242  85.32812484 127.99218726 170.65624968 213.3203121\n",
            " 255.98437452 298.64843694]\n",
            "[10 20 30 40 50 60 70]\n",
            "[101 202 303 404 505 606 707]\n",
            "[2 2 2 2 2 2 2]\n",
            "[0 0 0 0 0 0 0]\n"
          ]
        }
      ]
    },
    {
      "cell_type": "code",
      "source": [
        "print(n2)"
      ],
      "metadata": {
        "colab": {
          "base_uri": "https://localhost:8080/"
        },
        "id": "CHshsEqYAFYk",
        "outputId": "3c79f88b-ce64-435b-8334-c38f7b38622a"
      },
      "execution_count": null,
      "outputs": [
        {
          "output_type": "stream",
          "name": "stdout",
          "text": [
            "[[ 10  20  30  40  50  60  70]\n",
            " [ 11  22  33  44  55  66  77]\n",
            " [101 202 303 404 505 606 707]]\n"
          ]
        }
      ]
    },
    {
      "cell_type": "code",
      "source": [
        "np.where(n2 == 33)"
      ],
      "metadata": {
        "colab": {
          "base_uri": "https://localhost:8080/"
        },
        "id": "jfUQsCNhAStK",
        "outputId": "9cb470bf-7513-4e24-aeba-498a09dfde00"
      },
      "execution_count": null,
      "outputs": [
        {
          "output_type": "execute_result",
          "data": {
            "text/plain": [
              "(array([1]), array([2]))"
            ]
          },
          "metadata": {},
          "execution_count": 28
        }
      ]
    },
    {
      "cell_type": "code",
      "source": [
        "#array + range = creating an array using a range\n",
        "n3 = np.arange(0,36)\n",
        "print(n3)"
      ],
      "metadata": {
        "colab": {
          "base_uri": "https://localhost:8080/"
        },
        "id": "YcDRBgNGAWuF",
        "outputId": "aea2a94c-6f71-4602-9fe4-0f930f805237"
      },
      "execution_count": null,
      "outputs": [
        {
          "output_type": "stream",
          "name": "stdout",
          "text": [
            "[ 0  1  2  3  4  5  6  7  8  9 10 11 12 13 14 15 16 17 18 19 20 21 22 23\n",
            " 24 25 26 27 28 29 30 31 32 33 34 35]\n"
          ]
        }
      ]
    },
    {
      "cell_type": "code",
      "source": [
        "#Change the shape of an array => reshape\n",
        "#36 => (1,36),(36,1),(2,18),(18,2),(3,12),(12,3),(4,9),(9,4),(6,6)\n",
        "\n",
        "n4 = n3.reshape(6,6)\n",
        "print(n4)"
      ],
      "metadata": {
        "colab": {
          "base_uri": "https://localhost:8080/"
        },
        "id": "NkrGxlRNBMsY",
        "outputId": "3429672f-7bc0-45fc-b569-232c18eed957"
      },
      "execution_count": null,
      "outputs": [
        {
          "output_type": "stream",
          "name": "stdout",
          "text": [
            "[[ 0  1  2  3  4  5]\n",
            " [ 6  7  8  9 10 11]\n",
            " [12 13 14 15 16 17]\n",
            " [18 19 20 21 22 23]\n",
            " [24 25 26 27 28 29]\n",
            " [30 31 32 33 34 35]]\n"
          ]
        }
      ]
    },
    {
      "cell_type": "code",
      "source": [
        "#n-dimensional array into 1 dimensional\n",
        "print(n4.ravel())\n",
        "print(n4.flatten())"
      ],
      "metadata": {
        "colab": {
          "base_uri": "https://localhost:8080/"
        },
        "id": "7BXcsl_RBqy-",
        "outputId": "f269f828-97c1-4e9e-bf1d-a3e1a733d78d"
      },
      "execution_count": null,
      "outputs": [
        {
          "output_type": "stream",
          "name": "stdout",
          "text": [
            "[ 0  1  2  3  4  5  6  7  8  9 10 11 12 13 14 15 16 17 18 19 20 21 22 23\n",
            " 24 25 26 27 28 29 30 31 32 33 34 35]\n",
            "[ 0  1  2  3  4  5  6  7  8  9 10 11 12 13 14 15 16 17 18 19 20 21 22 23\n",
            " 24 25 26 27 28 29 30 31 32 33 34 35]\n"
          ]
        }
      ]
    },
    {
      "cell_type": "code",
      "source": [
        "#Accesiing any value\n",
        "print(n4)"
      ],
      "metadata": {
        "colab": {
          "base_uri": "https://localhost:8080/"
        },
        "id": "r-XodNS2BVRc",
        "outputId": "d19bfb67-23a3-4256-dccd-91e5662ba42f"
      },
      "execution_count": null,
      "outputs": [
        {
          "output_type": "stream",
          "name": "stdout",
          "text": [
            "[[ 0  1  2  3  4  5]\n",
            " [ 6  7  8  9 10 11]\n",
            " [12 13 14 15 16 17]\n",
            " [18 19 20 21 22 23]\n",
            " [24 25 26 27 28 29]\n",
            " [30 31 32 33 34 35]]\n"
          ]
        }
      ]
    },
    {
      "cell_type": "code",
      "source": [
        "print(n4[0])\n",
        "print(n4[3])"
      ],
      "metadata": {
        "colab": {
          "base_uri": "https://localhost:8080/"
        },
        "id": "yZeEVtKNB_0_",
        "outputId": "1e97ce44-6933-45f0-c4c4-fbbae1698b66"
      },
      "execution_count": null,
      "outputs": [
        {
          "output_type": "stream",
          "name": "stdout",
          "text": [
            "[0 1 2 3 4 5]\n",
            "[18 19 20 21 22 23]\n"
          ]
        }
      ]
    },
    {
      "cell_type": "code",
      "source": [
        "print(n4[0,3])\n",
        "print(n4[3,2])"
      ],
      "metadata": {
        "colab": {
          "base_uri": "https://localhost:8080/"
        },
        "id": "HQRm4y4sCJRL",
        "outputId": "501a594d-fb9e-45f4-fe4d-bd06d59cbc57"
      },
      "execution_count": null,
      "outputs": [
        {
          "output_type": "stream",
          "name": "stdout",
          "text": [
            "3\n",
            "20\n"
          ]
        }
      ]
    },
    {
      "cell_type": "code",
      "source": [
        "#Slicing in an array\n",
        "print(n4)"
      ],
      "metadata": {
        "colab": {
          "base_uri": "https://localhost:8080/"
        },
        "id": "DzthkEadCPbf",
        "outputId": "96a30f46-979b-4451-e46f-f64adffea97b"
      },
      "execution_count": null,
      "outputs": [
        {
          "output_type": "stream",
          "name": "stdout",
          "text": [
            "[[ 0  1  2  3  4  5]\n",
            " [ 6  7  8  9 10 11]\n",
            " [12 13 14 15 16 17]\n",
            " [18 19 20 21 22 23]\n",
            " [24 25 26 27 28 29]\n",
            " [30 31 32 33 34 35]]\n"
          ]
        }
      ]
    },
    {
      "cell_type": "code",
      "source": [
        "n4[: , :]    #array[row slicing , column slicing]"
      ],
      "metadata": {
        "colab": {
          "base_uri": "https://localhost:8080/"
        },
        "id": "7-BjZ7_PCoRT",
        "outputId": "85f8d32b-5f90-42dd-9f76-fe152a05ab3c"
      },
      "execution_count": null,
      "outputs": [
        {
          "output_type": "execute_result",
          "data": {
            "text/plain": [
              "array([[ 0,  1,  2,  3,  4,  5],\n",
              "       [ 6,  7,  8,  9, 10, 11],\n",
              "       [12, 13, 14, 15, 16, 17],\n",
              "       [18, 19, 20, 21, 22, 23],\n",
              "       [24, 25, 26, 27, 28, 29],\n",
              "       [30, 31, 32, 33, 34, 35]])"
            ]
          },
          "metadata": {},
          "execution_count": 40
        }
      ]
    },
    {
      "cell_type": "code",
      "source": [
        "n4[: , 1:3]   #array[intial index : intial index + num of rows or columns]"
      ],
      "metadata": {
        "colab": {
          "base_uri": "https://localhost:8080/"
        },
        "id": "3usue2c1Cq2R",
        "outputId": "cda47897-3ba1-42ad-c39d-805099092905"
      },
      "execution_count": null,
      "outputs": [
        {
          "output_type": "execute_result",
          "data": {
            "text/plain": [
              "array([[ 1,  2],\n",
              "       [ 7,  8],\n",
              "       [13, 14],\n",
              "       [19, 20],\n",
              "       [25, 26],\n",
              "       [31, 32]])"
            ]
          },
          "metadata": {},
          "execution_count": 41
        }
      ]
    },
    {
      "cell_type": "code",
      "source": [
        "n4[: , 1:2]"
      ],
      "metadata": {
        "colab": {
          "base_uri": "https://localhost:8080/"
        },
        "id": "ocSuvHVEC2N5",
        "outputId": "d0e75f59-8b16-4a1f-c522-f34df03ae56d"
      },
      "execution_count": null,
      "outputs": [
        {
          "output_type": "execute_result",
          "data": {
            "text/plain": [
              "array([[ 1],\n",
              "       [ 7],\n",
              "       [13],\n",
              "       [19],\n",
              "       [25],\n",
              "       [31]])"
            ]
          },
          "metadata": {},
          "execution_count": 42
        }
      ]
    },
    {
      "cell_type": "code",
      "source": [
        "n4[2:5 ,:]"
      ],
      "metadata": {
        "colab": {
          "base_uri": "https://localhost:8080/"
        },
        "id": "_nW0zqGqC-wl",
        "outputId": "784a8138-71a6-4338-8f7f-6242002876bd"
      },
      "execution_count": null,
      "outputs": [
        {
          "output_type": "execute_result",
          "data": {
            "text/plain": [
              "array([[12, 13, 14, 15, 16, 17],\n",
              "       [18, 19, 20, 21, 22, 23],\n",
              "       [24, 25, 26, 27, 28, 29]])"
            ]
          },
          "metadata": {},
          "execution_count": 43
        }
      ]
    },
    {
      "cell_type": "code",
      "source": [
        "print(n4)"
      ],
      "metadata": {
        "colab": {
          "base_uri": "https://localhost:8080/"
        },
        "id": "83UKNOUrDCsI",
        "outputId": "0f4be897-7839-4847-9be1-4002f38365bc"
      },
      "execution_count": null,
      "outputs": [
        {
          "output_type": "stream",
          "name": "stdout",
          "text": [
            "[[ 0  1  2  3  4  5]\n",
            " [ 6  7  8  9 10 11]\n",
            " [12 13 14 15 16 17]\n",
            " [18 19 20 21 22 23]\n",
            " [24 25 26 27 28 29]\n",
            " [30 31 32 33 34 35]]\n"
          ]
        }
      ]
    },
    {
      "cell_type": "code",
      "source": [
        "print(n4[1:5 , 1:5])"
      ],
      "metadata": {
        "colab": {
          "base_uri": "https://localhost:8080/"
        },
        "id": "CngGkRFADFki",
        "outputId": "49fdd8c9-bf5c-41a2-aebd-a7ac1a2fb6ac"
      },
      "execution_count": null,
      "outputs": [
        {
          "output_type": "stream",
          "name": "stdout",
          "text": [
            "[[ 7  8  9 10]\n",
            " [13 14 15 16]\n",
            " [19 20 21 22]\n",
            " [25 26 27 28]]\n"
          ]
        }
      ]
    },
    {
      "cell_type": "code",
      "source": [],
      "metadata": {
        "id": "7OR06redDlkg"
      },
      "execution_count": null,
      "outputs": []
    }
  ]
}